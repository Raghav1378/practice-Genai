{
  "nbformat": 4,
  "nbformat_minor": 0,
  "metadata": {
    "colab": {
      "provenance": [],
      "gpuType": "T4"
    },
    "kernelspec": {
      "name": "python3",
      "display_name": "Python 3"
    },
    "language_info": {
      "name": "python"
    },
    "accelerator": "GPU"
  },
  "cells": [
    {
      "cell_type": "code",
      "execution_count": 1,
      "metadata": {
        "colab": {
          "base_uri": "https://localhost:8080/"
        },
        "id": "qCZ-_x-hGFfP",
        "outputId": "1e8bdcad-668e-4a8d-ed65-653ea882bbb2"
      },
      "outputs": [
        {
          "output_type": "stream",
          "name": "stdout",
          "text": [
            "Requirement already satisfied: langchain==0.3.19 in /usr/local/lib/python3.11/dist-packages (0.3.19)\n",
            "Requirement already satisfied: langchain-core<1.0.0,>=0.3.35 in /usr/local/lib/python3.11/dist-packages (from langchain==0.3.19) (0.3.37)\n",
            "Requirement already satisfied: langchain-text-splitters<1.0.0,>=0.3.6 in /usr/local/lib/python3.11/dist-packages (from langchain==0.3.19) (0.3.6)\n",
            "Requirement already satisfied: langsmith<0.4,>=0.1.17 in /usr/local/lib/python3.11/dist-packages (from langchain==0.3.19) (0.3.8)\n",
            "Requirement already satisfied: pydantic<3.0.0,>=2.7.4 in /usr/local/lib/python3.11/dist-packages (from langchain==0.3.19) (2.10.6)\n",
            "Requirement already satisfied: SQLAlchemy<3,>=1.4 in /usr/local/lib/python3.11/dist-packages (from langchain==0.3.19) (2.0.38)\n",
            "Requirement already satisfied: requests<3,>=2 in /usr/local/lib/python3.11/dist-packages (from langchain==0.3.19) (2.32.3)\n",
            "Requirement already satisfied: PyYAML>=5.3 in /usr/local/lib/python3.11/dist-packages (from langchain==0.3.19) (6.0.2)\n",
            "Requirement already satisfied: aiohttp<4.0.0,>=3.8.3 in /usr/local/lib/python3.11/dist-packages (from langchain==0.3.19) (3.11.12)\n",
            "Requirement already satisfied: tenacity!=8.4.0,<10,>=8.1.0 in /usr/local/lib/python3.11/dist-packages (from langchain==0.3.19) (9.0.0)\n",
            "Requirement already satisfied: numpy<2,>=1.26.4 in /usr/local/lib/python3.11/dist-packages (from langchain==0.3.19) (1.26.4)\n",
            "Requirement already satisfied: aiohappyeyeballs>=2.3.0 in /usr/local/lib/python3.11/dist-packages (from aiohttp<4.0.0,>=3.8.3->langchain==0.3.19) (2.4.6)\n",
            "Requirement already satisfied: aiosignal>=1.1.2 in /usr/local/lib/python3.11/dist-packages (from aiohttp<4.0.0,>=3.8.3->langchain==0.3.19) (1.3.2)\n",
            "Requirement already satisfied: attrs>=17.3.0 in /usr/local/lib/python3.11/dist-packages (from aiohttp<4.0.0,>=3.8.3->langchain==0.3.19) (25.1.0)\n",
            "Requirement already satisfied: frozenlist>=1.1.1 in /usr/local/lib/python3.11/dist-packages (from aiohttp<4.0.0,>=3.8.3->langchain==0.3.19) (1.5.0)\n",
            "Requirement already satisfied: multidict<7.0,>=4.5 in /usr/local/lib/python3.11/dist-packages (from aiohttp<4.0.0,>=3.8.3->langchain==0.3.19) (6.1.0)\n",
            "Requirement already satisfied: propcache>=0.2.0 in /usr/local/lib/python3.11/dist-packages (from aiohttp<4.0.0,>=3.8.3->langchain==0.3.19) (0.2.1)\n",
            "Requirement already satisfied: yarl<2.0,>=1.17.0 in /usr/local/lib/python3.11/dist-packages (from aiohttp<4.0.0,>=3.8.3->langchain==0.3.19) (1.18.3)\n",
            "Requirement already satisfied: jsonpatch<2.0,>=1.33 in /usr/local/lib/python3.11/dist-packages (from langchain-core<1.0.0,>=0.3.35->langchain==0.3.19) (1.33)\n",
            "Requirement already satisfied: packaging<25,>=23.2 in /usr/local/lib/python3.11/dist-packages (from langchain-core<1.0.0,>=0.3.35->langchain==0.3.19) (24.2)\n",
            "Requirement already satisfied: typing-extensions>=4.7 in /usr/local/lib/python3.11/dist-packages (from langchain-core<1.0.0,>=0.3.35->langchain==0.3.19) (4.12.2)\n",
            "Requirement already satisfied: httpx<1,>=0.23.0 in /usr/local/lib/python3.11/dist-packages (from langsmith<0.4,>=0.1.17->langchain==0.3.19) (0.28.1)\n",
            "Requirement already satisfied: orjson<4.0.0,>=3.9.14 in /usr/local/lib/python3.11/dist-packages (from langsmith<0.4,>=0.1.17->langchain==0.3.19) (3.10.15)\n",
            "Requirement already satisfied: requests-toolbelt<2.0.0,>=1.0.0 in /usr/local/lib/python3.11/dist-packages (from langsmith<0.4,>=0.1.17->langchain==0.3.19) (1.0.0)\n",
            "Requirement already satisfied: zstandard<0.24.0,>=0.23.0 in /usr/local/lib/python3.11/dist-packages (from langsmith<0.4,>=0.1.17->langchain==0.3.19) (0.23.0)\n",
            "Requirement already satisfied: annotated-types>=0.6.0 in /usr/local/lib/python3.11/dist-packages (from pydantic<3.0.0,>=2.7.4->langchain==0.3.19) (0.7.0)\n",
            "Requirement already satisfied: pydantic-core==2.27.2 in /usr/local/lib/python3.11/dist-packages (from pydantic<3.0.0,>=2.7.4->langchain==0.3.19) (2.27.2)\n",
            "Requirement already satisfied: charset-normalizer<4,>=2 in /usr/local/lib/python3.11/dist-packages (from requests<3,>=2->langchain==0.3.19) (3.4.1)\n",
            "Requirement already satisfied: idna<4,>=2.5 in /usr/local/lib/python3.11/dist-packages (from requests<3,>=2->langchain==0.3.19) (3.10)\n",
            "Requirement already satisfied: urllib3<3,>=1.21.1 in /usr/local/lib/python3.11/dist-packages (from requests<3,>=2->langchain==0.3.19) (2.3.0)\n",
            "Requirement already satisfied: certifi>=2017.4.17 in /usr/local/lib/python3.11/dist-packages (from requests<3,>=2->langchain==0.3.19) (2025.1.31)\n",
            "Requirement already satisfied: greenlet!=0.4.17 in /usr/local/lib/python3.11/dist-packages (from SQLAlchemy<3,>=1.4->langchain==0.3.19) (3.1.1)\n",
            "Requirement already satisfied: anyio in /usr/local/lib/python3.11/dist-packages (from httpx<1,>=0.23.0->langsmith<0.4,>=0.1.17->langchain==0.3.19) (3.7.1)\n",
            "Requirement already satisfied: httpcore==1.* in /usr/local/lib/python3.11/dist-packages (from httpx<1,>=0.23.0->langsmith<0.4,>=0.1.17->langchain==0.3.19) (1.0.7)\n",
            "Requirement already satisfied: h11<0.15,>=0.13 in /usr/local/lib/python3.11/dist-packages (from httpcore==1.*->httpx<1,>=0.23.0->langsmith<0.4,>=0.1.17->langchain==0.3.19) (0.14.0)\n",
            "Requirement already satisfied: jsonpointer>=1.9 in /usr/local/lib/python3.11/dist-packages (from jsonpatch<2.0,>=1.33->langchain-core<1.0.0,>=0.3.35->langchain==0.3.19) (3.0.0)\n",
            "Requirement already satisfied: sniffio>=1.1 in /usr/local/lib/python3.11/dist-packages (from anyio->httpx<1,>=0.23.0->langsmith<0.4,>=0.1.17->langchain==0.3.19) (1.3.1)\n",
            "Collecting langchain-openai==0.3.6\n",
            "  Downloading langchain_openai-0.3.6-py3-none-any.whl.metadata (2.3 kB)\n",
            "Requirement already satisfied: langchain-core<1.0.0,>=0.3.35 in /usr/local/lib/python3.11/dist-packages (from langchain-openai==0.3.6) (0.3.37)\n",
            "Requirement already satisfied: openai<2.0.0,>=1.58.1 in /usr/local/lib/python3.11/dist-packages (from langchain-openai==0.3.6) (1.61.1)\n",
            "Collecting tiktoken<1,>=0.7 (from langchain-openai==0.3.6)\n",
            "  Downloading tiktoken-0.9.0-cp311-cp311-manylinux_2_17_x86_64.manylinux2014_x86_64.whl.metadata (6.7 kB)\n",
            "Requirement already satisfied: langsmith<0.4,>=0.1.125 in /usr/local/lib/python3.11/dist-packages (from langchain-core<1.0.0,>=0.3.35->langchain-openai==0.3.6) (0.3.8)\n",
            "Requirement already satisfied: tenacity!=8.4.0,<10.0.0,>=8.1.0 in /usr/local/lib/python3.11/dist-packages (from langchain-core<1.0.0,>=0.3.35->langchain-openai==0.3.6) (9.0.0)\n",
            "Requirement already satisfied: jsonpatch<2.0,>=1.33 in /usr/local/lib/python3.11/dist-packages (from langchain-core<1.0.0,>=0.3.35->langchain-openai==0.3.6) (1.33)\n",
            "Requirement already satisfied: PyYAML>=5.3 in /usr/local/lib/python3.11/dist-packages (from langchain-core<1.0.0,>=0.3.35->langchain-openai==0.3.6) (6.0.2)\n",
            "Requirement already satisfied: packaging<25,>=23.2 in /usr/local/lib/python3.11/dist-packages (from langchain-core<1.0.0,>=0.3.35->langchain-openai==0.3.6) (24.2)\n",
            "Requirement already satisfied: typing-extensions>=4.7 in /usr/local/lib/python3.11/dist-packages (from langchain-core<1.0.0,>=0.3.35->langchain-openai==0.3.6) (4.12.2)\n",
            "Requirement already satisfied: pydantic<3.0.0,>=2.5.2 in /usr/local/lib/python3.11/dist-packages (from langchain-core<1.0.0,>=0.3.35->langchain-openai==0.3.6) (2.10.6)\n",
            "Requirement already satisfied: anyio<5,>=3.5.0 in /usr/local/lib/python3.11/dist-packages (from openai<2.0.0,>=1.58.1->langchain-openai==0.3.6) (3.7.1)\n",
            "Requirement already satisfied: distro<2,>=1.7.0 in /usr/local/lib/python3.11/dist-packages (from openai<2.0.0,>=1.58.1->langchain-openai==0.3.6) (1.9.0)\n",
            "Requirement already satisfied: httpx<1,>=0.23.0 in /usr/local/lib/python3.11/dist-packages (from openai<2.0.0,>=1.58.1->langchain-openai==0.3.6) (0.28.1)\n",
            "Requirement already satisfied: jiter<1,>=0.4.0 in /usr/local/lib/python3.11/dist-packages (from openai<2.0.0,>=1.58.1->langchain-openai==0.3.6) (0.8.2)\n",
            "Requirement already satisfied: sniffio in /usr/local/lib/python3.11/dist-packages (from openai<2.0.0,>=1.58.1->langchain-openai==0.3.6) (1.3.1)\n",
            "Requirement already satisfied: tqdm>4 in /usr/local/lib/python3.11/dist-packages (from openai<2.0.0,>=1.58.1->langchain-openai==0.3.6) (4.67.1)\n",
            "Requirement already satisfied: regex>=2022.1.18 in /usr/local/lib/python3.11/dist-packages (from tiktoken<1,>=0.7->langchain-openai==0.3.6) (2024.11.6)\n",
            "Requirement already satisfied: requests>=2.26.0 in /usr/local/lib/python3.11/dist-packages (from tiktoken<1,>=0.7->langchain-openai==0.3.6) (2.32.3)\n",
            "Requirement already satisfied: idna>=2.8 in /usr/local/lib/python3.11/dist-packages (from anyio<5,>=3.5.0->openai<2.0.0,>=1.58.1->langchain-openai==0.3.6) (3.10)\n",
            "Requirement already satisfied: certifi in /usr/local/lib/python3.11/dist-packages (from httpx<1,>=0.23.0->openai<2.0.0,>=1.58.1->langchain-openai==0.3.6) (2025.1.31)\n",
            "Requirement already satisfied: httpcore==1.* in /usr/local/lib/python3.11/dist-packages (from httpx<1,>=0.23.0->openai<2.0.0,>=1.58.1->langchain-openai==0.3.6) (1.0.7)\n",
            "Requirement already satisfied: h11<0.15,>=0.13 in /usr/local/lib/python3.11/dist-packages (from httpcore==1.*->httpx<1,>=0.23.0->openai<2.0.0,>=1.58.1->langchain-openai==0.3.6) (0.14.0)\n",
            "Requirement already satisfied: jsonpointer>=1.9 in /usr/local/lib/python3.11/dist-packages (from jsonpatch<2.0,>=1.33->langchain-core<1.0.0,>=0.3.35->langchain-openai==0.3.6) (3.0.0)\n",
            "Requirement already satisfied: orjson<4.0.0,>=3.9.14 in /usr/local/lib/python3.11/dist-packages (from langsmith<0.4,>=0.1.125->langchain-core<1.0.0,>=0.3.35->langchain-openai==0.3.6) (3.10.15)\n",
            "Requirement already satisfied: requests-toolbelt<2.0.0,>=1.0.0 in /usr/local/lib/python3.11/dist-packages (from langsmith<0.4,>=0.1.125->langchain-core<1.0.0,>=0.3.35->langchain-openai==0.3.6) (1.0.0)\n",
            "Requirement already satisfied: zstandard<0.24.0,>=0.23.0 in /usr/local/lib/python3.11/dist-packages (from langsmith<0.4,>=0.1.125->langchain-core<1.0.0,>=0.3.35->langchain-openai==0.3.6) (0.23.0)\n",
            "Requirement already satisfied: annotated-types>=0.6.0 in /usr/local/lib/python3.11/dist-packages (from pydantic<3.0.0,>=2.5.2->langchain-core<1.0.0,>=0.3.35->langchain-openai==0.3.6) (0.7.0)\n",
            "Requirement already satisfied: pydantic-core==2.27.2 in /usr/local/lib/python3.11/dist-packages (from pydantic<3.0.0,>=2.5.2->langchain-core<1.0.0,>=0.3.35->langchain-openai==0.3.6) (2.27.2)\n",
            "Requirement already satisfied: charset-normalizer<4,>=2 in /usr/local/lib/python3.11/dist-packages (from requests>=2.26.0->tiktoken<1,>=0.7->langchain-openai==0.3.6) (3.4.1)\n",
            "Requirement already satisfied: urllib3<3,>=1.21.1 in /usr/local/lib/python3.11/dist-packages (from requests>=2.26.0->tiktoken<1,>=0.7->langchain-openai==0.3.6) (2.3.0)\n",
            "Downloading langchain_openai-0.3.6-py3-none-any.whl (54 kB)\n",
            "\u001b[2K   \u001b[90m━━━━━━━━━━━━━━━━━━━━━━━━━━━━━━━━━━━━━━━━\u001b[0m \u001b[32m54.9/54.9 kB\u001b[0m \u001b[31m5.1 MB/s\u001b[0m eta \u001b[36m0:00:00\u001b[0m\n",
            "\u001b[?25hDownloading tiktoken-0.9.0-cp311-cp311-manylinux_2_17_x86_64.manylinux2014_x86_64.whl (1.2 MB)\n",
            "\u001b[2K   \u001b[90m━━━━━━━━━━━━━━━━━━━━━━━━━━━━━━━━━━━━━━━━\u001b[0m \u001b[32m1.2/1.2 MB\u001b[0m \u001b[31m66.9 MB/s\u001b[0m eta \u001b[36m0:00:00\u001b[0m\n",
            "\u001b[?25hInstalling collected packages: tiktoken, langchain-openai\n",
            "Successfully installed langchain-openai-0.3.6 tiktoken-0.9.0\n",
            "Collecting langchain-community\n",
            "  Downloading langchain_community-0.3.18-py3-none-any.whl.metadata (2.4 kB)\n",
            "Requirement already satisfied: langchain-core<1.0.0,>=0.3.37 in /usr/local/lib/python3.11/dist-packages (from langchain-community) (0.3.37)\n",
            "Requirement already satisfied: langchain<1.0.0,>=0.3.19 in /usr/local/lib/python3.11/dist-packages (from langchain-community) (0.3.19)\n",
            "Requirement already satisfied: SQLAlchemy<3,>=1.4 in /usr/local/lib/python3.11/dist-packages (from langchain-community) (2.0.38)\n",
            "Requirement already satisfied: requests<3,>=2 in /usr/local/lib/python3.11/dist-packages (from langchain-community) (2.32.3)\n",
            "Requirement already satisfied: PyYAML>=5.3 in /usr/local/lib/python3.11/dist-packages (from langchain-community) (6.0.2)\n",
            "Requirement already satisfied: aiohttp<4.0.0,>=3.8.3 in /usr/local/lib/python3.11/dist-packages (from langchain-community) (3.11.12)\n",
            "Requirement already satisfied: tenacity!=8.4.0,<10,>=8.1.0 in /usr/local/lib/python3.11/dist-packages (from langchain-community) (9.0.0)\n",
            "Collecting dataclasses-json<0.7,>=0.5.7 (from langchain-community)\n",
            "  Downloading dataclasses_json-0.6.7-py3-none-any.whl.metadata (25 kB)\n",
            "Collecting pydantic-settings<3.0.0,>=2.4.0 (from langchain-community)\n",
            "  Downloading pydantic_settings-2.8.0-py3-none-any.whl.metadata (3.5 kB)\n",
            "Requirement already satisfied: langsmith<0.4,>=0.1.125 in /usr/local/lib/python3.11/dist-packages (from langchain-community) (0.3.8)\n",
            "Collecting httpx-sse<1.0.0,>=0.4.0 (from langchain-community)\n",
            "  Downloading httpx_sse-0.4.0-py3-none-any.whl.metadata (9.0 kB)\n",
            "Requirement already satisfied: numpy<2,>=1.26.4 in /usr/local/lib/python3.11/dist-packages (from langchain-community) (1.26.4)\n",
            "Requirement already satisfied: aiohappyeyeballs>=2.3.0 in /usr/local/lib/python3.11/dist-packages (from aiohttp<4.0.0,>=3.8.3->langchain-community) (2.4.6)\n",
            "Requirement already satisfied: aiosignal>=1.1.2 in /usr/local/lib/python3.11/dist-packages (from aiohttp<4.0.0,>=3.8.3->langchain-community) (1.3.2)\n",
            "Requirement already satisfied: attrs>=17.3.0 in /usr/local/lib/python3.11/dist-packages (from aiohttp<4.0.0,>=3.8.3->langchain-community) (25.1.0)\n",
            "Requirement already satisfied: frozenlist>=1.1.1 in /usr/local/lib/python3.11/dist-packages (from aiohttp<4.0.0,>=3.8.3->langchain-community) (1.5.0)\n",
            "Requirement already satisfied: multidict<7.0,>=4.5 in /usr/local/lib/python3.11/dist-packages (from aiohttp<4.0.0,>=3.8.3->langchain-community) (6.1.0)\n",
            "Requirement already satisfied: propcache>=0.2.0 in /usr/local/lib/python3.11/dist-packages (from aiohttp<4.0.0,>=3.8.3->langchain-community) (0.2.1)\n",
            "Requirement already satisfied: yarl<2.0,>=1.17.0 in /usr/local/lib/python3.11/dist-packages (from aiohttp<4.0.0,>=3.8.3->langchain-community) (1.18.3)\n",
            "Collecting marshmallow<4.0.0,>=3.18.0 (from dataclasses-json<0.7,>=0.5.7->langchain-community)\n",
            "  Downloading marshmallow-3.26.1-py3-none-any.whl.metadata (7.3 kB)\n",
            "Collecting typing-inspect<1,>=0.4.0 (from dataclasses-json<0.7,>=0.5.7->langchain-community)\n",
            "  Downloading typing_inspect-0.9.0-py3-none-any.whl.metadata (1.5 kB)\n",
            "Requirement already satisfied: langchain-text-splitters<1.0.0,>=0.3.6 in /usr/local/lib/python3.11/dist-packages (from langchain<1.0.0,>=0.3.19->langchain-community) (0.3.6)\n",
            "Requirement already satisfied: pydantic<3.0.0,>=2.7.4 in /usr/local/lib/python3.11/dist-packages (from langchain<1.0.0,>=0.3.19->langchain-community) (2.10.6)\n",
            "Requirement already satisfied: jsonpatch<2.0,>=1.33 in /usr/local/lib/python3.11/dist-packages (from langchain-core<1.0.0,>=0.3.37->langchain-community) (1.33)\n",
            "Requirement already satisfied: packaging<25,>=23.2 in /usr/local/lib/python3.11/dist-packages (from langchain-core<1.0.0,>=0.3.37->langchain-community) (24.2)\n",
            "Requirement already satisfied: typing-extensions>=4.7 in /usr/local/lib/python3.11/dist-packages (from langchain-core<1.0.0,>=0.3.37->langchain-community) (4.12.2)\n",
            "Requirement already satisfied: httpx<1,>=0.23.0 in /usr/local/lib/python3.11/dist-packages (from langsmith<0.4,>=0.1.125->langchain-community) (0.28.1)\n",
            "Requirement already satisfied: orjson<4.0.0,>=3.9.14 in /usr/local/lib/python3.11/dist-packages (from langsmith<0.4,>=0.1.125->langchain-community) (3.10.15)\n",
            "Requirement already satisfied: requests-toolbelt<2.0.0,>=1.0.0 in /usr/local/lib/python3.11/dist-packages (from langsmith<0.4,>=0.1.125->langchain-community) (1.0.0)\n",
            "Requirement already satisfied: zstandard<0.24.0,>=0.23.0 in /usr/local/lib/python3.11/dist-packages (from langsmith<0.4,>=0.1.125->langchain-community) (0.23.0)\n",
            "Collecting python-dotenv>=0.21.0 (from pydantic-settings<3.0.0,>=2.4.0->langchain-community)\n",
            "  Downloading python_dotenv-1.0.1-py3-none-any.whl.metadata (23 kB)\n",
            "Requirement already satisfied: charset-normalizer<4,>=2 in /usr/local/lib/python3.11/dist-packages (from requests<3,>=2->langchain-community) (3.4.1)\n",
            "Requirement already satisfied: idna<4,>=2.5 in /usr/local/lib/python3.11/dist-packages (from requests<3,>=2->langchain-community) (3.10)\n",
            "Requirement already satisfied: urllib3<3,>=1.21.1 in /usr/local/lib/python3.11/dist-packages (from requests<3,>=2->langchain-community) (2.3.0)\n",
            "Requirement already satisfied: certifi>=2017.4.17 in /usr/local/lib/python3.11/dist-packages (from requests<3,>=2->langchain-community) (2025.1.31)\n",
            "Requirement already satisfied: greenlet!=0.4.17 in /usr/local/lib/python3.11/dist-packages (from SQLAlchemy<3,>=1.4->langchain-community) (3.1.1)\n",
            "Requirement already satisfied: anyio in /usr/local/lib/python3.11/dist-packages (from httpx<1,>=0.23.0->langsmith<0.4,>=0.1.125->langchain-community) (3.7.1)\n",
            "Requirement already satisfied: httpcore==1.* in /usr/local/lib/python3.11/dist-packages (from httpx<1,>=0.23.0->langsmith<0.4,>=0.1.125->langchain-community) (1.0.7)\n",
            "Requirement already satisfied: h11<0.15,>=0.13 in /usr/local/lib/python3.11/dist-packages (from httpcore==1.*->httpx<1,>=0.23.0->langsmith<0.4,>=0.1.125->langchain-community) (0.14.0)\n",
            "Requirement already satisfied: jsonpointer>=1.9 in /usr/local/lib/python3.11/dist-packages (from jsonpatch<2.0,>=1.33->langchain-core<1.0.0,>=0.3.37->langchain-community) (3.0.0)\n",
            "Requirement already satisfied: annotated-types>=0.6.0 in /usr/local/lib/python3.11/dist-packages (from pydantic<3.0.0,>=2.7.4->langchain<1.0.0,>=0.3.19->langchain-community) (0.7.0)\n",
            "Requirement already satisfied: pydantic-core==2.27.2 in /usr/local/lib/python3.11/dist-packages (from pydantic<3.0.0,>=2.7.4->langchain<1.0.0,>=0.3.19->langchain-community) (2.27.2)\n",
            "Collecting mypy-extensions>=0.3.0 (from typing-inspect<1,>=0.4.0->dataclasses-json<0.7,>=0.5.7->langchain-community)\n",
            "  Downloading mypy_extensions-1.0.0-py3-none-any.whl.metadata (1.1 kB)\n",
            "Requirement already satisfied: sniffio>=1.1 in /usr/local/lib/python3.11/dist-packages (from anyio->httpx<1,>=0.23.0->langsmith<0.4,>=0.1.125->langchain-community) (1.3.1)\n",
            "Downloading langchain_community-0.3.18-py3-none-any.whl (2.5 MB)\n",
            "\u001b[2K   \u001b[90m━━━━━━━━━━━━━━━━━━━━━━━━━━━━━━━━━━━━━━━━\u001b[0m \u001b[32m2.5/2.5 MB\u001b[0m \u001b[31m91.6 MB/s\u001b[0m eta \u001b[36m0:00:00\u001b[0m\n",
            "\u001b[?25hDownloading dataclasses_json-0.6.7-py3-none-any.whl (28 kB)\n",
            "Downloading httpx_sse-0.4.0-py3-none-any.whl (7.8 kB)\n",
            "Downloading pydantic_settings-2.8.0-py3-none-any.whl (30 kB)\n",
            "Downloading marshmallow-3.26.1-py3-none-any.whl (50 kB)\n",
            "\u001b[2K   \u001b[90m━━━━━━━━━━━━━━━━━━━━━━━━━━━━━━━━━━━━━━━━\u001b[0m \u001b[32m50.9/50.9 kB\u001b[0m \u001b[31m5.5 MB/s\u001b[0m eta \u001b[36m0:00:00\u001b[0m\n",
            "\u001b[?25hDownloading python_dotenv-1.0.1-py3-none-any.whl (19 kB)\n",
            "Downloading typing_inspect-0.9.0-py3-none-any.whl (8.8 kB)\n",
            "Downloading mypy_extensions-1.0.0-py3-none-any.whl (4.7 kB)\n",
            "Installing collected packages: python-dotenv, mypy-extensions, marshmallow, httpx-sse, typing-inspect, pydantic-settings, dataclasses-json, langchain-community\n",
            "Successfully installed dataclasses-json-0.6.7 httpx-sse-0.4.0 langchain-community-0.3.18 marshmallow-3.26.1 mypy-extensions-1.0.0 pydantic-settings-2.8.0 python-dotenv-1.0.1 typing-inspect-0.9.0\n"
          ]
        }
      ],
      "source": [
        "!pip install langchain==0.3.19\n",
        "!pip install langchain-openai==0.3.6\n",
        "!pip install langchain-community"
      ]
    },
    {
      "cell_type": "code",
      "source": [
        "from getpass import getpass\n",
        "OPENAI_KEY = getpass('please enter your Open AI API KEY HERE ....:')"
      ],
      "metadata": {
        "colab": {
          "base_uri": "https://localhost:8080/"
        },
        "id": "XJ4s_wdKGJ1F",
        "outputId": "d33bdcb1-253d-4bd1-910a-b4e9222444b0"
      },
      "execution_count": 2,
      "outputs": [
        {
          "name": "stdout",
          "output_type": "stream",
          "text": [
            "please enter your Open AI API KEY HERE ....:··········\n"
          ]
        }
      ]
    },
    {
      "cell_type": "code",
      "source": [
        "import os\n",
        "os.environ['OPENAI_API_KEY'] = OPENAI_KEY"
      ],
      "metadata": {
        "id": "ZfPx-fCoGJ4U"
      },
      "execution_count": 3,
      "outputs": []
    },
    {
      "cell_type": "code",
      "source": [
        "from langchain_openai import ChatOpenAI\n",
        "chatgpt = ChatOpenAI(model_name='gpt-4o-mini', temperature=0)"
      ],
      "metadata": {
        "id": "zie6LStDGJ7E"
      },
      "execution_count": 4,
      "outputs": []
    },
    {
      "cell_type": "code",
      "source": [
        "from langchain_core.prompts import PromptTemplate\n",
        "from langchain_core.output_parsers import PydanticOutputParser\n",
        "from pydantic import BaseModel, Field\n"
      ],
      "metadata": {
        "id": "XT7qhcVeGJ96"
      },
      "execution_count": 5,
      "outputs": []
    },
    {
      "cell_type": "code",
      "source": [
        "# Define your desired data structure - like a python data class\n",
        "class QueryResponse(BaseModel):\n",
        "  description: str = Field(description=\"A brief description of the topic asked by user\")\n",
        "  pros: str = Field(description=\"3 bullet points showing the pros of the topic asked by user\")\n",
        "  cons: str = Field(description=\"3 bullet points showing the cons of the topic asked by user\")\n",
        "  conclusion: str = Field(description=\"One line conclusion of the topic asked by the user\")\n",
        "parser = PydanticOutputParser(pydantic_object=QueryResponse)\n",
        "parser\n"
      ],
      "metadata": {
        "colab": {
          "base_uri": "https://localhost:8080/"
        },
        "id": "vN6GnZV3GKA8",
        "outputId": "ec244fbd-fa2c-4f37-e8cf-9b982c118744"
      },
      "execution_count": 6,
      "outputs": [
        {
          "output_type": "execute_result",
          "data": {
            "text/plain": [
              "PydanticOutputParser(pydantic_object=<class '__main__.QueryResponse'>)"
            ]
          },
          "metadata": {},
          "execution_count": 6
        }
      ]
    },
    {
      "cell_type": "code",
      "source": [
        "print(parser.get_format_instructions())"
      ],
      "metadata": {
        "colab": {
          "base_uri": "https://localhost:8080/"
        },
        "id": "xpPIkCA5GKD9",
        "outputId": "c4f3dce2-1c51-4dd3-85ea-6f4c6a954603"
      },
      "execution_count": 7,
      "outputs": [
        {
          "output_type": "stream",
          "name": "stdout",
          "text": [
            "The output should be formatted as a JSON instance that conforms to the JSON schema below.\n",
            "\n",
            "As an example, for the schema {\"properties\": {\"foo\": {\"title\": \"Foo\", \"description\": \"a list of strings\", \"type\": \"array\", \"items\": {\"type\": \"string\"}}}, \"required\": [\"foo\"]}\n",
            "the object {\"foo\": [\"bar\", \"baz\"]} is a well-formatted instance of the schema. The object {\"properties\": {\"foo\": [\"bar\", \"baz\"]}} is not well-formatted.\n",
            "\n",
            "Here is the output schema:\n",
            "```\n",
            "{\"properties\": {\"description\": {\"description\": \"A brief description of the topic asked by user\", \"title\": \"Description\", \"type\": \"string\"}, \"pros\": {\"description\": \"3 bullet points showing the pros of the topic asked by user\", \"title\": \"Pros\", \"type\": \"string\"}, \"cons\": {\"description\": \"3 bullet points showing the cons of the topic asked by user\", \"title\": \"Cons\", \"type\": \"string\"}, \"conclusion\": {\"description\": \"One line conclusion of the topic asked by the user\", \"title\": \"Conclusion\", \"type\": \"string\"}}, \"required\": [\"description\", \"pros\", \"cons\", \"conclusion\"]}\n",
            "```\n"
          ]
        }
      ]
    },
    {
      "cell_type": "code",
      "source": [
        "prompt_txt = \"\"\"\n",
        "Answer the user query and generate the response based on the following formatting instructions\n",
        "Format Instruction:\n",
        "{format_instructions}\n",
        "\n",
        "Query:\n",
        "{query}\n",
        "\"\"\"\n",
        "\n",
        "prompt = PromptTemplate(\n",
        "    template=prompt_txt,\n",
        "    input_variables=[\"query\"],\n",
        "    partial_variables={\"format_instructions\": parser.get_format_instructions()}\n",
        ")\n",
        "prompt"
      ],
      "metadata": {
        "colab": {
          "base_uri": "https://localhost:8080/"
        },
        "id": "CmJfKV_NGKGx",
        "outputId": "a2e20f58-0a07-4f40-dab1-660285d19469"
      },
      "execution_count": 8,
      "outputs": [
        {
          "output_type": "execute_result",
          "data": {
            "text/plain": [
              "PromptTemplate(input_variables=['query'], input_types={}, partial_variables={'format_instructions': 'The output should be formatted as a JSON instance that conforms to the JSON schema below.\\n\\nAs an example, for the schema {\"properties\": {\"foo\": {\"title\": \"Foo\", \"description\": \"a list of strings\", \"type\": \"array\", \"items\": {\"type\": \"string\"}}}, \"required\": [\"foo\"]}\\nthe object {\"foo\": [\"bar\", \"baz\"]} is a well-formatted instance of the schema. The object {\"properties\": {\"foo\": [\"bar\", \"baz\"]}} is not well-formatted.\\n\\nHere is the output schema:\\n```\\n{\"properties\": {\"description\": {\"description\": \"A brief description of the topic asked by user\", \"title\": \"Description\", \"type\": \"string\"}, \"pros\": {\"description\": \"3 bullet points showing the pros of the topic asked by user\", \"title\": \"Pros\", \"type\": \"string\"}, \"cons\": {\"description\": \"3 bullet points showing the cons of the topic asked by user\", \"title\": \"Cons\", \"type\": \"string\"}, \"conclusion\": {\"description\": \"One line conclusion of the topic asked by the user\", \"title\": \"Conclusion\", \"type\": \"string\"}}, \"required\": [\"description\", \"pros\", \"cons\", \"conclusion\"]}\\n```'}, template='\\nAnswer the user query and generate the response based on the following formatting instructions\\nFormat Instruction:\\n{format_instructions}\\n\\nQuery:\\n{query}\\n')"
            ]
          },
          "metadata": {},
          "execution_count": 8
        }
      ]
    },
    {
      "cell_type": "code",
      "source": [
        "chain = (prompt | chatgpt | parser)"
      ],
      "metadata": {
        "id": "h7V4mgoHGKJk"
      },
      "execution_count": 9,
      "outputs": []
    },
    {
      "cell_type": "code",
      "source": [
        "#question =\"Tell me about Credit Card Features\"\n",
        "question =\"Explain me about the significant of Pydantic method in Langchain, explain in details\"\n",
        "response = chain.invoke({\"query\": question})\n",
        "response"
      ],
      "metadata": {
        "colab": {
          "base_uri": "https://localhost:8080/"
        },
        "id": "sGSaeZnjLMHf",
        "outputId": "bc481476-023f-4a56-f4d5-b14f01b8dcdf"
      },
      "execution_count": 14,
      "outputs": [
        {
          "output_type": "execute_result",
          "data": {
            "text/plain": [
              "QueryResponse(description='Pydantic is a data validation and settings management library for Python that plays a significant role in Langchain by ensuring that the data structures used in the framework are validated and correctly typed, enhancing reliability and maintainability.', pros='- Provides data validation, ensuring that the data conforms to expected types and formats.\\n- Enhances code readability and maintainability by using Python type hints.\\n- Facilitates easier debugging and error handling by raising clear validation errors.', cons=\"- May introduce additional overhead in terms of performance due to validation checks.\\n- Requires developers to learn and understand Pydantic's features and syntax.\\n- Can lead to complexity in cases where dynamic data structures are frequently changing.\", conclusion='Overall, Pydantic significantly enhances data integrity and developer experience in Langchain.')"
            ]
          },
          "metadata": {},
          "execution_count": 14
        }
      ]
    },
    {
      "cell_type": "code",
      "source": [
        "response.description"
      ],
      "metadata": {
        "colab": {
          "base_uri": "https://localhost:8080/",
          "height": 52
        },
        "id": "iLk7QaeuGKMQ",
        "outputId": "e37afbcf-42ce-43ef-8c0d-f9139daa582a"
      },
      "execution_count": 11,
      "outputs": [
        {
          "output_type": "execute_result",
          "data": {
            "text/plain": [
              "'Credit cards are financial tools that allow users to borrow funds for purchases, with the obligation to pay back the borrowed amount along with interest and fees.'"
            ],
            "application/vnd.google.colaboratory.intrinsic+json": {
              "type": "string"
            }
          },
          "metadata": {},
          "execution_count": 11
        }
      ]
    },
    {
      "cell_type": "code",
      "source": [
        "response.dict()"
      ],
      "metadata": {
        "colab": {
          "base_uri": "https://localhost:8080/"
        },
        "id": "oH1VAdYJGKPM",
        "outputId": "1aab710e-b052-4675-938d-6dbad0473850"
      },
      "execution_count": 12,
      "outputs": [
        {
          "output_type": "stream",
          "name": "stderr",
          "text": [
            "<ipython-input-12-83cee9ab0c35>:1: PydanticDeprecatedSince20: The `dict` method is deprecated; use `model_dump` instead. Deprecated in Pydantic V2.0 to be removed in V3.0. See Pydantic V2 Migration Guide at https://errors.pydantic.dev/2.10/migration/\n",
            "  response.dict()\n"
          ]
        },
        {
          "output_type": "execute_result",
          "data": {
            "text/plain": [
              "{'description': 'Credit cards are financial tools that allow users to borrow funds for purchases, with the obligation to pay back the borrowed amount along with interest and fees.',\n",
              " 'pros': '1. Convenient for making purchases without carrying cash.\\n2. Offers rewards and cashback on spending.\\n3. Helps build credit history and improve credit score.',\n",
              " 'cons': '1. High-interest rates can lead to debt if not managed properly.\\n2. Potential for overspending due to easy access to credit.\\n3. Fees for late payments and cash advances can accumulate quickly.',\n",
              " 'conclusion': 'Credit cards can be beneficial if used responsibly, but they require careful management to avoid debt.'}"
            ]
          },
          "metadata": {},
          "execution_count": 12
        }
      ]
    },
    {
      "cell_type": "code",
      "source": [
        "for k, v in response.dict().items():\n",
        "  print(f'{k}:\\n{v}\\n')"
      ],
      "metadata": {
        "colab": {
          "base_uri": "https://localhost:8080/"
        },
        "id": "RcgEP2dfGKSK",
        "outputId": "7857e256-c493-413d-8438-20f192a884a6"
      },
      "execution_count": 15,
      "outputs": [
        {
          "output_type": "stream",
          "name": "stdout",
          "text": [
            "description:\n",
            "Pydantic is a data validation and settings management library for Python that plays a significant role in Langchain by ensuring that the data structures used in the framework are validated and correctly typed, enhancing reliability and maintainability.\n",
            "\n",
            "pros:\n",
            "- Provides data validation, ensuring that the data conforms to expected types and formats.\n",
            "- Enhances code readability and maintainability by using Python type hints.\n",
            "- Facilitates easier debugging and error handling by raising clear validation errors.\n",
            "\n",
            "cons:\n",
            "- May introduce additional overhead in terms of performance due to validation checks.\n",
            "- Requires developers to learn and understand Pydantic's features and syntax.\n",
            "- Can lead to complexity in cases where dynamic data structures are frequently changing.\n",
            "\n",
            "conclusion:\n",
            "Overall, Pydantic significantly enhances data integrity and developer experience in Langchain.\n",
            "\n"
          ]
        },
        {
          "output_type": "stream",
          "name": "stderr",
          "text": [
            "<ipython-input-15-797b2bb3d6bb>:1: PydanticDeprecatedSince20: The `dict` method is deprecated; use `model_dump` instead. Deprecated in Pydantic V2.0 to be removed in V3.0. See Pydantic V2 Migration Guide at https://errors.pydantic.dev/2.10/migration/\n",
            "  for k, v in response.dict().items():\n"
          ]
        }
      ]
    },
    {
      "cell_type": "code",
      "source": [],
      "metadata": {
        "id": "XgrUxNPzGKVE"
      },
      "execution_count": null,
      "outputs": []
    },
    {
      "cell_type": "markdown",
      "source": [
        "# JsonOutput Parser"
      ],
      "metadata": {
        "id": "U4xWUAG4M8Q0"
      }
    },
    {
      "cell_type": "code",
      "source": [
        "from langchain_core.prompts import PromptTemplate\n",
        "from langchain_core.output_parsers import JsonOutputParser\n",
        "from pydantic import BaseModel, Field\n",
        "from typing import List\n",
        "\n",
        "# Define your desired data structure - like a python data class\n",
        "class QueryResponse(BaseModel):\n",
        "  description: str = Field(description=\"A brief description of the topic asked by user\")\n",
        "  pros: str = Field(description=\"3 bullet points showing the pros of the topic asked by user\")\n",
        "  cons: str = Field(description=\"3 bullet points showing the cons of the topic asked by user\")\n",
        "  conclusion: str = Field(description=\"One line conclusion of the topic asked by the user\")\n",
        "parser = JsonOutputParser(pydantic_object=QueryResponse)\n",
        "parser"
      ],
      "metadata": {
        "colab": {
          "base_uri": "https://localhost:8080/"
        },
        "id": "wvn_oz8oM_X0",
        "outputId": "bc0b3fa2-5502-4e5c-cb69-4bfa5dc1d087"
      },
      "execution_count": 16,
      "outputs": [
        {
          "output_type": "execute_result",
          "data": {
            "text/plain": [
              "JsonOutputParser(pydantic_object=<class '__main__.QueryResponse'>)"
            ]
          },
          "metadata": {},
          "execution_count": 16
        }
      ]
    },
    {
      "cell_type": "code",
      "source": [
        "prompt_txt = \"\"\"\n",
        "Answer the user query and generate the response based on the following formatting instructions\n",
        "\n",
        "Format Instruction:\n",
        "{format_instructions}\n",
        "\n",
        "Query:\n",
        "{query}\n",
        "\"\"\"\n",
        "\n",
        "prompt = PromptTemplate(\n",
        "    template=prompt_txt,\n",
        "    input_variables=[\"query\"],\n",
        "    partial_variables={\"format_instructions\": parser.get_format_instructions()}\n",
        ")\n",
        "prompt"
      ],
      "metadata": {
        "colab": {
          "base_uri": "https://localhost:8080/"
        },
        "id": "NgFdRs0EM_bF",
        "outputId": "84e67e20-027e-41a1-ad22-8e38573a1a7a"
      },
      "execution_count": 17,
      "outputs": [
        {
          "output_type": "execute_result",
          "data": {
            "text/plain": [
              "PromptTemplate(input_variables=['query'], input_types={}, partial_variables={'format_instructions': 'The output should be formatted as a JSON instance that conforms to the JSON schema below.\\n\\nAs an example, for the schema {\"properties\": {\"foo\": {\"title\": \"Foo\", \"description\": \"a list of strings\", \"type\": \"array\", \"items\": {\"type\": \"string\"}}}, \"required\": [\"foo\"]}\\nthe object {\"foo\": [\"bar\", \"baz\"]} is a well-formatted instance of the schema. The object {\"properties\": {\"foo\": [\"bar\", \"baz\"]}} is not well-formatted.\\n\\nHere is the output schema:\\n```\\n{\"properties\": {\"description\": {\"description\": \"A brief description of the topic asked by user\", \"title\": \"Description\", \"type\": \"string\"}, \"pros\": {\"description\": \"3 bullet points showing the pros of the topic asked by user\", \"title\": \"Pros\", \"type\": \"string\"}, \"cons\": {\"description\": \"3 bullet points showing the cons of the topic asked by user\", \"title\": \"Cons\", \"type\": \"string\"}, \"conclusion\": {\"description\": \"One line conclusion of the topic asked by the user\", \"title\": \"Conclusion\", \"type\": \"string\"}}, \"required\": [\"description\", \"pros\", \"cons\", \"conclusion\"]}\\n```'}, template='\\nAnswer the user query and generate the response based on the following formatting instructions\\n\\nFormat Instruction:\\n{format_instructions}\\n\\nQuery:\\n{query}\\n')"
            ]
          },
          "metadata": {},
          "execution_count": 17
        }
      ]
    },
    {
      "cell_type": "code",
      "source": [
        "chain = (prompt | chatgpt | parser)"
      ],
      "metadata": {
        "id": "2knBToLZM_d-"
      },
      "execution_count": 18,
      "outputs": []
    },
    {
      "cell_type": "code",
      "source": [
        "topic_queries = [\"Tell me about the HDFC Bank\", \"Tell me about ICICI Bank\",\n",
        "                 \"Tell me about Generative AI\", \"Tell me about LogisticRegression Model\"]\n",
        "\n",
        "topic_queries_formated =[{\"query\":topic} for topic in topic_queries]\n",
        "topic_queries_formated"
      ],
      "metadata": {
        "colab": {
          "base_uri": "https://localhost:8080/"
        },
        "id": "NYWF9G9SM_g2",
        "outputId": "6305b360-f5df-4cf7-d11a-4f970592fb80"
      },
      "execution_count": 19,
      "outputs": [
        {
          "output_type": "execute_result",
          "data": {
            "text/plain": [
              "[{'query': 'Tell me about the HDFC Bank'},\n",
              " {'query': 'Tell me about ICICI Bank'},\n",
              " {'query': 'Tell me about Generative AI'},\n",
              " {'query': 'Tell me about LogisticRegression Model'}]"
            ]
          },
          "metadata": {},
          "execution_count": 19
        }
      ]
    },
    {
      "cell_type": "code",
      "source": [
        "response = chain.map().invoke(topic_queries_formated)\n",
        "response"
      ],
      "metadata": {
        "colab": {
          "base_uri": "https://localhost:8080/"
        },
        "id": "V6-diP9zM_je",
        "outputId": "ffd2772f-f78b-4bae-e652-80bc90a38bd8"
      },
      "execution_count": 20,
      "outputs": [
        {
          "output_type": "execute_result",
          "data": {
            "text/plain": [
              "[{'description': \"HDFC Bank is one of India's leading private sector banks, offering a wide range of financial services and products to its customers.\",\n",
              "  'pros': '1. Strong financial performance and stability.\\n2. Extensive branch and ATM network across India.\\n3. Innovative digital banking solutions and services.',\n",
              "  'cons': '1. High competition in the banking sector may affect growth.\\n2. Customer service issues reported by some users.\\n3. Limited international presence compared to some global banks.',\n",
              "  'conclusion': 'HDFC Bank is a robust choice for banking needs in India, with both strengths and challenges.'},\n",
              " {'description': \"ICICI Bank is one of India's largest private sector banks, offering a wide range of financial services and products to customers.\",\n",
              "  'pros': '1. Extensive branch and ATM network across India.\\n2. Diverse range of financial products including loans, insurance, and investment options.\\n3. Strong digital banking platform for convenient online transactions.',\n",
              "  'cons': '1. Customer service can be inconsistent, leading to dissatisfaction.\\n2. Some fees and charges may be higher compared to other banks.\\n3. Complex processes for certain banking services can be frustrating for customers.',\n",
              "  'conclusion': 'Overall, ICICI Bank is a prominent player in the Indian banking sector with both advantages and disadvantages.'},\n",
              " {'description': 'Generative AI refers to algorithms that can generate new content, such as text, images, or music, based on training data.',\n",
              "  'pros': '- Can create unique and diverse content quickly.\\n- Enhances creativity by providing new ideas and perspectives.\\n- Automates repetitive tasks, saving time and resources.',\n",
              "  'cons': '- May produce biased or inappropriate content if trained on flawed data.\\n- Can lead to misinformation if not properly monitored.\\n- Ethical concerns regarding authorship and ownership of generated content.',\n",
              "  'conclusion': 'Generative AI holds great potential but requires careful management to mitigate its risks.'},\n",
              " {'description': 'Logistic Regression is a statistical method used for binary classification that models the probability of a certain class or event existing.',\n",
              "  'pros': '1. Simple to implement and interpret.\\n2. Works well with linearly separable data.\\n3. Provides probabilities for class membership.',\n",
              "  'cons': '1. Assumes a linear relationship between the features and the log-odds of the outcome.\\n2. Not suitable for complex relationships or non-linear data.\\n3. Sensitive to outliers which can skew results.',\n",
              "  'conclusion': 'Logistic Regression is a powerful tool for binary classification but has limitations in handling complex datasets.'}]"
            ]
          },
          "metadata": {},
          "execution_count": 20
        }
      ]
    },
    {
      "cell_type": "code",
      "source": [
        "for response in response:\n",
        "  for k, v in response.items():\n",
        "    print(f\"{k}:\\n{v}\\n\")\n",
        "    print(\"***************************\")"
      ],
      "metadata": {
        "colab": {
          "base_uri": "https://localhost:8080/"
        },
        "id": "JZ7EnySxO-p2",
        "outputId": "d18190da-84b6-4f4d-e04b-4a9d7edf8782"
      },
      "execution_count": 22,
      "outputs": [
        {
          "output_type": "stream",
          "name": "stdout",
          "text": [
            "description:\n",
            "HDFC Bank is one of India's leading private sector banks, offering a wide range of financial services and products to its customers.\n",
            "\n",
            "***************************\n",
            "pros:\n",
            "1. Strong financial performance and stability.\n",
            "2. Extensive branch and ATM network across India.\n",
            "3. Innovative digital banking solutions and services.\n",
            "\n",
            "***************************\n",
            "cons:\n",
            "1. High competition in the banking sector may affect growth.\n",
            "2. Customer service issues reported by some users.\n",
            "3. Limited international presence compared to some global banks.\n",
            "\n",
            "***************************\n",
            "conclusion:\n",
            "HDFC Bank is a robust choice for banking needs in India, with both strengths and challenges.\n",
            "\n",
            "***************************\n",
            "description:\n",
            "ICICI Bank is one of India's largest private sector banks, offering a wide range of financial services and products to customers.\n",
            "\n",
            "***************************\n",
            "pros:\n",
            "1. Extensive branch and ATM network across India.\n",
            "2. Diverse range of financial products including loans, insurance, and investment options.\n",
            "3. Strong digital banking platform for convenient online transactions.\n",
            "\n",
            "***************************\n",
            "cons:\n",
            "1. Customer service can be inconsistent, leading to dissatisfaction.\n",
            "2. Some fees and charges may be higher compared to other banks.\n",
            "3. Complex processes for certain banking services can be frustrating for customers.\n",
            "\n",
            "***************************\n",
            "conclusion:\n",
            "Overall, ICICI Bank is a prominent player in the Indian banking sector with both advantages and disadvantages.\n",
            "\n",
            "***************************\n",
            "description:\n",
            "Generative AI refers to algorithms that can generate new content, such as text, images, or music, based on training data.\n",
            "\n",
            "***************************\n",
            "pros:\n",
            "- Can create unique and diverse content quickly.\n",
            "- Enhances creativity by providing new ideas and perspectives.\n",
            "- Automates repetitive tasks, saving time and resources.\n",
            "\n",
            "***************************\n",
            "cons:\n",
            "- May produce biased or inappropriate content if trained on flawed data.\n",
            "- Can lead to misinformation if not properly monitored.\n",
            "- Ethical concerns regarding authorship and ownership of generated content.\n",
            "\n",
            "***************************\n",
            "conclusion:\n",
            "Generative AI holds great potential but requires careful management to mitigate its risks.\n",
            "\n",
            "***************************\n",
            "description:\n",
            "Logistic Regression is a statistical method used for binary classification that models the probability of a certain class or event existing.\n",
            "\n",
            "***************************\n",
            "pros:\n",
            "1. Simple to implement and interpret.\n",
            "2. Works well with linearly separable data.\n",
            "3. Provides probabilities for class membership.\n",
            "\n",
            "***************************\n",
            "cons:\n",
            "1. Assumes a linear relationship between the features and the log-odds of the outcome.\n",
            "2. Not suitable for complex relationships or non-linear data.\n",
            "3. Sensitive to outliers which can skew results.\n",
            "\n",
            "***************************\n",
            "conclusion:\n",
            "Logistic Regression is a powerful tool for binary classification but has limitations in handling complex datasets.\n",
            "\n",
            "***************************\n"
          ]
        }
      ]
    },
    {
      "cell_type": "code",
      "source": [
        "import pandas as pd\n",
        "df = pd.DataFrame(response)\n",
        "df"
      ],
      "metadata": {
        "colab": {
          "base_uri": "https://localhost:8080/",
          "height": 244
        },
        "id": "LKBfTJxMM_mh",
        "outputId": "e609d400-a676-40ae-8b2f-01a3d8d44fe3"
      },
      "execution_count": 21,
      "outputs": [
        {
          "output_type": "execute_result",
          "data": {
            "text/plain": [
              "                                         description  \\\n",
              "0  HDFC Bank is one of India's leading private se...   \n",
              "1  ICICI Bank is one of India's largest private s...   \n",
              "2  Generative AI refers to algorithms that can ge...   \n",
              "3  Logistic Regression is a statistical method us...   \n",
              "\n",
              "                                                pros  \\\n",
              "0  1. Strong financial performance and stability....   \n",
              "1  1. Extensive branch and ATM network across Ind...   \n",
              "2  - Can create unique and diverse content quickl...   \n",
              "3  1. Simple to implement and interpret.\\n2. Work...   \n",
              "\n",
              "                                                cons  \\\n",
              "0  1. High competition in the banking sector may ...   \n",
              "1  1. Customer service can be inconsistent, leadi...   \n",
              "2  - May produce biased or inappropriate content ...   \n",
              "3  1. Assumes a linear relationship between the f...   \n",
              "\n",
              "                                          conclusion  \n",
              "0  HDFC Bank is a robust choice for banking needs...  \n",
              "1  Overall, ICICI Bank is a prominent player in t...  \n",
              "2  Generative AI holds great potential but requir...  \n",
              "3  Logistic Regression is a powerful tool for bin...  "
            ],
            "text/html": [
              "\n",
              "  <div id=\"df-7f7f2276-d4a6-4938-bd06-a64b54ce6f87\" class=\"colab-df-container\">\n",
              "    <div>\n",
              "<style scoped>\n",
              "    .dataframe tbody tr th:only-of-type {\n",
              "        vertical-align: middle;\n",
              "    }\n",
              "\n",
              "    .dataframe tbody tr th {\n",
              "        vertical-align: top;\n",
              "    }\n",
              "\n",
              "    .dataframe thead th {\n",
              "        text-align: right;\n",
              "    }\n",
              "</style>\n",
              "<table border=\"1\" class=\"dataframe\">\n",
              "  <thead>\n",
              "    <tr style=\"text-align: right;\">\n",
              "      <th></th>\n",
              "      <th>description</th>\n",
              "      <th>pros</th>\n",
              "      <th>cons</th>\n",
              "      <th>conclusion</th>\n",
              "    </tr>\n",
              "  </thead>\n",
              "  <tbody>\n",
              "    <tr>\n",
              "      <th>0</th>\n",
              "      <td>HDFC Bank is one of India's leading private se...</td>\n",
              "      <td>1. Strong financial performance and stability....</td>\n",
              "      <td>1. High competition in the banking sector may ...</td>\n",
              "      <td>HDFC Bank is a robust choice for banking needs...</td>\n",
              "    </tr>\n",
              "    <tr>\n",
              "      <th>1</th>\n",
              "      <td>ICICI Bank is one of India's largest private s...</td>\n",
              "      <td>1. Extensive branch and ATM network across Ind...</td>\n",
              "      <td>1. Customer service can be inconsistent, leadi...</td>\n",
              "      <td>Overall, ICICI Bank is a prominent player in t...</td>\n",
              "    </tr>\n",
              "    <tr>\n",
              "      <th>2</th>\n",
              "      <td>Generative AI refers to algorithms that can ge...</td>\n",
              "      <td>- Can create unique and diverse content quickl...</td>\n",
              "      <td>- May produce biased or inappropriate content ...</td>\n",
              "      <td>Generative AI holds great potential but requir...</td>\n",
              "    </tr>\n",
              "    <tr>\n",
              "      <th>3</th>\n",
              "      <td>Logistic Regression is a statistical method us...</td>\n",
              "      <td>1. Simple to implement and interpret.\\n2. Work...</td>\n",
              "      <td>1. Assumes a linear relationship between the f...</td>\n",
              "      <td>Logistic Regression is a powerful tool for bin...</td>\n",
              "    </tr>\n",
              "  </tbody>\n",
              "</table>\n",
              "</div>\n",
              "    <div class=\"colab-df-buttons\">\n",
              "\n",
              "  <div class=\"colab-df-container\">\n",
              "    <button class=\"colab-df-convert\" onclick=\"convertToInteractive('df-7f7f2276-d4a6-4938-bd06-a64b54ce6f87')\"\n",
              "            title=\"Convert this dataframe to an interactive table.\"\n",
              "            style=\"display:none;\">\n",
              "\n",
              "  <svg xmlns=\"http://www.w3.org/2000/svg\" height=\"24px\" viewBox=\"0 -960 960 960\">\n",
              "    <path d=\"M120-120v-720h720v720H120Zm60-500h600v-160H180v160Zm220 220h160v-160H400v160Zm0 220h160v-160H400v160ZM180-400h160v-160H180v160Zm440 0h160v-160H620v160ZM180-180h160v-160H180v160Zm440 0h160v-160H620v160Z\"/>\n",
              "  </svg>\n",
              "    </button>\n",
              "\n",
              "  <style>\n",
              "    .colab-df-container {\n",
              "      display:flex;\n",
              "      gap: 12px;\n",
              "    }\n",
              "\n",
              "    .colab-df-convert {\n",
              "      background-color: #E8F0FE;\n",
              "      border: none;\n",
              "      border-radius: 50%;\n",
              "      cursor: pointer;\n",
              "      display: none;\n",
              "      fill: #1967D2;\n",
              "      height: 32px;\n",
              "      padding: 0 0 0 0;\n",
              "      width: 32px;\n",
              "    }\n",
              "\n",
              "    .colab-df-convert:hover {\n",
              "      background-color: #E2EBFA;\n",
              "      box-shadow: 0px 1px 2px rgba(60, 64, 67, 0.3), 0px 1px 3px 1px rgba(60, 64, 67, 0.15);\n",
              "      fill: #174EA6;\n",
              "    }\n",
              "\n",
              "    .colab-df-buttons div {\n",
              "      margin-bottom: 4px;\n",
              "    }\n",
              "\n",
              "    [theme=dark] .colab-df-convert {\n",
              "      background-color: #3B4455;\n",
              "      fill: #D2E3FC;\n",
              "    }\n",
              "\n",
              "    [theme=dark] .colab-df-convert:hover {\n",
              "      background-color: #434B5C;\n",
              "      box-shadow: 0px 1px 3px 1px rgba(0, 0, 0, 0.15);\n",
              "      filter: drop-shadow(0px 1px 2px rgba(0, 0, 0, 0.3));\n",
              "      fill: #FFFFFF;\n",
              "    }\n",
              "  </style>\n",
              "\n",
              "    <script>\n",
              "      const buttonEl =\n",
              "        document.querySelector('#df-7f7f2276-d4a6-4938-bd06-a64b54ce6f87 button.colab-df-convert');\n",
              "      buttonEl.style.display =\n",
              "        google.colab.kernel.accessAllowed ? 'block' : 'none';\n",
              "\n",
              "      async function convertToInteractive(key) {\n",
              "        const element = document.querySelector('#df-7f7f2276-d4a6-4938-bd06-a64b54ce6f87');\n",
              "        const dataTable =\n",
              "          await google.colab.kernel.invokeFunction('convertToInteractive',\n",
              "                                                    [key], {});\n",
              "        if (!dataTable) return;\n",
              "\n",
              "        const docLinkHtml = 'Like what you see? Visit the ' +\n",
              "          '<a target=\"_blank\" href=https://colab.research.google.com/notebooks/data_table.ipynb>data table notebook</a>'\n",
              "          + ' to learn more about interactive tables.';\n",
              "        element.innerHTML = '';\n",
              "        dataTable['output_type'] = 'display_data';\n",
              "        await google.colab.output.renderOutput(dataTable, element);\n",
              "        const docLink = document.createElement('div');\n",
              "        docLink.innerHTML = docLinkHtml;\n",
              "        element.appendChild(docLink);\n",
              "      }\n",
              "    </script>\n",
              "  </div>\n",
              "\n",
              "\n",
              "<div id=\"df-ba0511b6-91fd-43da-a8b3-e3ff37bb28ae\">\n",
              "  <button class=\"colab-df-quickchart\" onclick=\"quickchart('df-ba0511b6-91fd-43da-a8b3-e3ff37bb28ae')\"\n",
              "            title=\"Suggest charts\"\n",
              "            style=\"display:none;\">\n",
              "\n",
              "<svg xmlns=\"http://www.w3.org/2000/svg\" height=\"24px\"viewBox=\"0 0 24 24\"\n",
              "     width=\"24px\">\n",
              "    <g>\n",
              "        <path d=\"M19 3H5c-1.1 0-2 .9-2 2v14c0 1.1.9 2 2 2h14c1.1 0 2-.9 2-2V5c0-1.1-.9-2-2-2zM9 17H7v-7h2v7zm4 0h-2V7h2v10zm4 0h-2v-4h2v4z\"/>\n",
              "    </g>\n",
              "</svg>\n",
              "  </button>\n",
              "\n",
              "<style>\n",
              "  .colab-df-quickchart {\n",
              "      --bg-color: #E8F0FE;\n",
              "      --fill-color: #1967D2;\n",
              "      --hover-bg-color: #E2EBFA;\n",
              "      --hover-fill-color: #174EA6;\n",
              "      --disabled-fill-color: #AAA;\n",
              "      --disabled-bg-color: #DDD;\n",
              "  }\n",
              "\n",
              "  [theme=dark] .colab-df-quickchart {\n",
              "      --bg-color: #3B4455;\n",
              "      --fill-color: #D2E3FC;\n",
              "      --hover-bg-color: #434B5C;\n",
              "      --hover-fill-color: #FFFFFF;\n",
              "      --disabled-bg-color: #3B4455;\n",
              "      --disabled-fill-color: #666;\n",
              "  }\n",
              "\n",
              "  .colab-df-quickchart {\n",
              "    background-color: var(--bg-color);\n",
              "    border: none;\n",
              "    border-radius: 50%;\n",
              "    cursor: pointer;\n",
              "    display: none;\n",
              "    fill: var(--fill-color);\n",
              "    height: 32px;\n",
              "    padding: 0;\n",
              "    width: 32px;\n",
              "  }\n",
              "\n",
              "  .colab-df-quickchart:hover {\n",
              "    background-color: var(--hover-bg-color);\n",
              "    box-shadow: 0 1px 2px rgba(60, 64, 67, 0.3), 0 1px 3px 1px rgba(60, 64, 67, 0.15);\n",
              "    fill: var(--button-hover-fill-color);\n",
              "  }\n",
              "\n",
              "  .colab-df-quickchart-complete:disabled,\n",
              "  .colab-df-quickchart-complete:disabled:hover {\n",
              "    background-color: var(--disabled-bg-color);\n",
              "    fill: var(--disabled-fill-color);\n",
              "    box-shadow: none;\n",
              "  }\n",
              "\n",
              "  .colab-df-spinner {\n",
              "    border: 2px solid var(--fill-color);\n",
              "    border-color: transparent;\n",
              "    border-bottom-color: var(--fill-color);\n",
              "    animation:\n",
              "      spin 1s steps(1) infinite;\n",
              "  }\n",
              "\n",
              "  @keyframes spin {\n",
              "    0% {\n",
              "      border-color: transparent;\n",
              "      border-bottom-color: var(--fill-color);\n",
              "      border-left-color: var(--fill-color);\n",
              "    }\n",
              "    20% {\n",
              "      border-color: transparent;\n",
              "      border-left-color: var(--fill-color);\n",
              "      border-top-color: var(--fill-color);\n",
              "    }\n",
              "    30% {\n",
              "      border-color: transparent;\n",
              "      border-left-color: var(--fill-color);\n",
              "      border-top-color: var(--fill-color);\n",
              "      border-right-color: var(--fill-color);\n",
              "    }\n",
              "    40% {\n",
              "      border-color: transparent;\n",
              "      border-right-color: var(--fill-color);\n",
              "      border-top-color: var(--fill-color);\n",
              "    }\n",
              "    60% {\n",
              "      border-color: transparent;\n",
              "      border-right-color: var(--fill-color);\n",
              "    }\n",
              "    80% {\n",
              "      border-color: transparent;\n",
              "      border-right-color: var(--fill-color);\n",
              "      border-bottom-color: var(--fill-color);\n",
              "    }\n",
              "    90% {\n",
              "      border-color: transparent;\n",
              "      border-bottom-color: var(--fill-color);\n",
              "    }\n",
              "  }\n",
              "</style>\n",
              "\n",
              "  <script>\n",
              "    async function quickchart(key) {\n",
              "      const quickchartButtonEl =\n",
              "        document.querySelector('#' + key + ' button');\n",
              "      quickchartButtonEl.disabled = true;  // To prevent multiple clicks.\n",
              "      quickchartButtonEl.classList.add('colab-df-spinner');\n",
              "      try {\n",
              "        const charts = await google.colab.kernel.invokeFunction(\n",
              "            'suggestCharts', [key], {});\n",
              "      } catch (error) {\n",
              "        console.error('Error during call to suggestCharts:', error);\n",
              "      }\n",
              "      quickchartButtonEl.classList.remove('colab-df-spinner');\n",
              "      quickchartButtonEl.classList.add('colab-df-quickchart-complete');\n",
              "    }\n",
              "    (() => {\n",
              "      let quickchartButtonEl =\n",
              "        document.querySelector('#df-ba0511b6-91fd-43da-a8b3-e3ff37bb28ae button');\n",
              "      quickchartButtonEl.style.display =\n",
              "        google.colab.kernel.accessAllowed ? 'block' : 'none';\n",
              "    })();\n",
              "  </script>\n",
              "</div>\n",
              "\n",
              "  <div id=\"id_cf7c3c19-889b-4d0b-ad68-22216deab6fc\">\n",
              "    <style>\n",
              "      .colab-df-generate {\n",
              "        background-color: #E8F0FE;\n",
              "        border: none;\n",
              "        border-radius: 50%;\n",
              "        cursor: pointer;\n",
              "        display: none;\n",
              "        fill: #1967D2;\n",
              "        height: 32px;\n",
              "        padding: 0 0 0 0;\n",
              "        width: 32px;\n",
              "      }\n",
              "\n",
              "      .colab-df-generate:hover {\n",
              "        background-color: #E2EBFA;\n",
              "        box-shadow: 0px 1px 2px rgba(60, 64, 67, 0.3), 0px 1px 3px 1px rgba(60, 64, 67, 0.15);\n",
              "        fill: #174EA6;\n",
              "      }\n",
              "\n",
              "      [theme=dark] .colab-df-generate {\n",
              "        background-color: #3B4455;\n",
              "        fill: #D2E3FC;\n",
              "      }\n",
              "\n",
              "      [theme=dark] .colab-df-generate:hover {\n",
              "        background-color: #434B5C;\n",
              "        box-shadow: 0px 1px 3px 1px rgba(0, 0, 0, 0.15);\n",
              "        filter: drop-shadow(0px 1px 2px rgba(0, 0, 0, 0.3));\n",
              "        fill: #FFFFFF;\n",
              "      }\n",
              "    </style>\n",
              "    <button class=\"colab-df-generate\" onclick=\"generateWithVariable('df')\"\n",
              "            title=\"Generate code using this dataframe.\"\n",
              "            style=\"display:none;\">\n",
              "\n",
              "  <svg xmlns=\"http://www.w3.org/2000/svg\" height=\"24px\"viewBox=\"0 0 24 24\"\n",
              "       width=\"24px\">\n",
              "    <path d=\"M7,19H8.4L18.45,9,17,7.55,7,17.6ZM5,21V16.75L18.45,3.32a2,2,0,0,1,2.83,0l1.4,1.43a1.91,1.91,0,0,1,.58,1.4,1.91,1.91,0,0,1-.58,1.4L9.25,21ZM18.45,9,17,7.55Zm-12,3A5.31,5.31,0,0,0,4.9,8.1,5.31,5.31,0,0,0,1,6.5,5.31,5.31,0,0,0,4.9,4.9,5.31,5.31,0,0,0,6.5,1,5.31,5.31,0,0,0,8.1,4.9,5.31,5.31,0,0,0,12,6.5,5.46,5.46,0,0,0,6.5,12Z\"/>\n",
              "  </svg>\n",
              "    </button>\n",
              "    <script>\n",
              "      (() => {\n",
              "      const buttonEl =\n",
              "        document.querySelector('#id_cf7c3c19-889b-4d0b-ad68-22216deab6fc button.colab-df-generate');\n",
              "      buttonEl.style.display =\n",
              "        google.colab.kernel.accessAllowed ? 'block' : 'none';\n",
              "\n",
              "      buttonEl.onclick = () => {\n",
              "        google.colab.notebook.generateWithVariable('df');\n",
              "      }\n",
              "      })();\n",
              "    </script>\n",
              "  </div>\n",
              "\n",
              "    </div>\n",
              "  </div>\n"
            ],
            "application/vnd.google.colaboratory.intrinsic+json": {
              "type": "dataframe",
              "variable_name": "df",
              "summary": "{\n  \"name\": \"df\",\n  \"rows\": 4,\n  \"fields\": [\n    {\n      \"column\": \"description\",\n      \"properties\": {\n        \"dtype\": \"string\",\n        \"num_unique_values\": 4,\n        \"samples\": [\n          \"ICICI Bank is one of India's largest private sector banks, offering a wide range of financial services and products to customers.\",\n          \"Logistic Regression is a statistical method used for binary classification that models the probability of a certain class or event existing.\",\n          \"HDFC Bank is one of India's leading private sector banks, offering a wide range of financial services and products to its customers.\"\n        ],\n        \"semantic_type\": \"\",\n        \"description\": \"\"\n      }\n    },\n    {\n      \"column\": \"pros\",\n      \"properties\": {\n        \"dtype\": \"string\",\n        \"num_unique_values\": 4,\n        \"samples\": [\n          \"1. Extensive branch and ATM network across India.\\n2. Diverse range of financial products including loans, insurance, and investment options.\\n3. Strong digital banking platform for convenient online transactions.\",\n          \"1. Simple to implement and interpret.\\n2. Works well with linearly separable data.\\n3. Provides probabilities for class membership.\",\n          \"1. Strong financial performance and stability.\\n2. Extensive branch and ATM network across India.\\n3. Innovative digital banking solutions and services.\"\n        ],\n        \"semantic_type\": \"\",\n        \"description\": \"\"\n      }\n    },\n    {\n      \"column\": \"cons\",\n      \"properties\": {\n        \"dtype\": \"string\",\n        \"num_unique_values\": 4,\n        \"samples\": [\n          \"1. Customer service can be inconsistent, leading to dissatisfaction.\\n2. Some fees and charges may be higher compared to other banks.\\n3. Complex processes for certain banking services can be frustrating for customers.\",\n          \"1. Assumes a linear relationship between the features and the log-odds of the outcome.\\n2. Not suitable for complex relationships or non-linear data.\\n3. Sensitive to outliers which can skew results.\",\n          \"1. High competition in the banking sector may affect growth.\\n2. Customer service issues reported by some users.\\n3. Limited international presence compared to some global banks.\"\n        ],\n        \"semantic_type\": \"\",\n        \"description\": \"\"\n      }\n    },\n    {\n      \"column\": \"conclusion\",\n      \"properties\": {\n        \"dtype\": \"string\",\n        \"num_unique_values\": 4,\n        \"samples\": [\n          \"Overall, ICICI Bank is a prominent player in the Indian banking sector with both advantages and disadvantages.\",\n          \"Logistic Regression is a powerful tool for binary classification but has limitations in handling complex datasets.\",\n          \"HDFC Bank is a robust choice for banking needs in India, with both strengths and challenges.\"\n        ],\n        \"semantic_type\": \"\",\n        \"description\": \"\"\n      }\n    }\n  ]\n}"
            }
          },
          "metadata": {},
          "execution_count": 21
        }
      ]
    },
    {
      "cell_type": "markdown",
      "source": [
        "# Mini-Project (Real Time)\n",
        "\n",
        "1. Review Analysis : Objective (Summarize, Highlight the pos and neg, Sentiment analysis, display the customer emotion)\n",
        "\n",
        "2. Research Paper Analysis\n",
        "\n",
        "3. Social Media Marketing Analysis\n",
        "\n",
        "4. IT Support Analysis"
      ],
      "metadata": {
        "id": "QzcMZaE_Plhy"
      }
    },
    {
      "cell_type": "code",
      "source": [
        "reviews = [\n",
        "    f\"\"\"\n",
        "    Just received the Bluetooth speaker I ordered for beach outings, and it's fantastic.\n",
        "    The sound quality is impressively clear with just the right amount of bass.\n",
        "    It's also waterproof, which tested true during a recent splashing incident.\n",
        "    Though it's compact, the volume can really fill the space.\n",
        "    The price was a bargain for such high-quality sound.\n",
        "    Shipping was also on point, arriving two days early in secure packaging.\n",
        "    \"\"\",\n",
        "    f\"\"\"\n",
        "    Purchased a new gaming keyboard because of its rave reviews about responsiveness and backlighting.\n",
        "    It hasn't disappointed. The keys have a satisfying click and the LED colors are vibrant,\n",
        "    enhancing my gaming experience significantly. Price-wise, it's quite competitive,\n",
        "    and I feel like I got a good deal. The delivery was swift, and it came well-protected,\n",
        "    ensuring no damage during transport.\n",
        "    \"\"\",\n",
        "    f\"\"\"\n",
        "    Ordered a set of wireless earbuds for running, and they've been a letdown.\n",
        "    The sound constantly cuts out, and the fit is uncomfortable after only a few minutes of use.\n",
        "    They advertised a 12-hour battery life, but I'm barely getting four hours.\n",
        "    Considering the cost, I expected better quality and performance.\n",
        "    They did arrive on time, but the positives end there. I'm already looking into a return.\n",
        "    \"\"\",\n",
        "    f\"\"\"\n",
        "    The tablet stand I bought was touted as being sturdy and adjustable,\n",
        "    but it's anything but. It wobbles with the slightest touch,\n",
        "    and the angles are not holding up as promised. It feels like a breeze could knock it over.\n",
        "    It was also pricier than others I've seen, which adds to the disappointment.\n",
        "    It did arrive promptly, but what's the use if the product doesn't meet basic expectations?\n",
        "    \"\"\",\n",
        "    f\"\"\"\n",
        "    Needed a new kitchen blender, but this model has been a nightmare.\n",
        "    It's supposed to handle various foods, but it struggles with anything tougher than cooked vegetables.\n",
        "    It's also incredibly noisy, and the 'easy-clean' feature is a joke; food gets stuck under the blades constantly.\n",
        "    I thought the brand meant quality, but this product has proven me wrong.\n",
        "    Plus, it arrived three days late. Definitely not worth the expense.\n",
        "    \"\"\"\n",
        "]"
      ],
      "metadata": {
        "id": "UC8zVP1TPbvq"
      },
      "execution_count": 38,
      "outputs": []
    },
    {
      "cell_type": "code",
      "source": [
        "reviews"
      ],
      "metadata": {
        "colab": {
          "base_uri": "https://localhost:8080/"
        },
        "id": "1dHeAuWGPbyr",
        "outputId": "393b2e3b-0236-4768-cc8a-e5e0d06e8c4c"
      },
      "execution_count": 24,
      "outputs": [
        {
          "output_type": "execute_result",
          "data": {
            "text/plain": [
              "[\"\\n    Just received the Bluetooth speaker I ordered for beach outings, and it's fantastic.\\n    The sound quality is impressively clear with just the right amount of bass.\\n    It's also waterproof, which tested true during a recent splashing incident.\\n    Though it's compact, the volume can really fill the space.\\n    The price was a bargain for such high-quality sound.\\n    Shipping was also on point, arriving two days early in secure packaging.\\n    \",\n",
              " \"\\n    Purchased a new gaming keyboard because of its rave reviews about responsiveness and backlighting.\\n    It hasn't disappointed. The keys have a satisfying click and the LED colors are vibrant,\\n    enhancing my gaming experience significantly. Price-wise, it's quite competitive,\\n    and I feel like I got a good deal. The delivery was swift, and it came well-protected,\\n    ensuring no damage during transport.\\n    \",\n",
              " \"\\n    Ordered a set of wireless earbuds for running, and they've been a letdown.\\n    The sound constantly cuts out, and the fit is uncomfortable after only a few minutes of use.\\n    They advertised a 12-hour battery life, but I'm barely getting four hours.\\n    Considering the cost, I expected better quality and performance.\\n    They did arrive on time, but the positives end there. I'm already looking into a return.\\n    \",\n",
              " \"\\n    The tablet stand I bought was touted as being sturdy and adjustable,\\n    but it's anything but. It wobbles with the slightest touch,\\n    and the angles are not holding up as promised. It feels like a breeze could knock it over.\\n    It was also pricier than others I've seen, which adds to the disappointment.\\n    It did arrive promptly, but what's the use if the product doesn't meet basic expectations?\\n    \",\n",
              " \"\\n    Needed a new kitchen blender, but this model has been a nightmare.\\n    It's supposed to handle various foods, but it struggles with anything tougher than cooked vegetables.\\n    It's also incredibly noisy, and the 'easy-clean' feature is a joke; food gets stuck under the blades constantly.\\n    I thought the brand meant quality, but this product has proven me wrong.\\n    Plus, it arrived three days late. Definitely not worth the expense.\\n    \"]"
            ]
          },
          "metadata": {},
          "execution_count": 24
        }
      ]
    },
    {
      "cell_type": "code",
      "source": [
        "# Define your desired data structure - like a python data class\n",
        "class ReviewAnalysisResponse(BaseModel):\n",
        "  summary: str = Field(description=\"A brief summary of the customer review with maximum 3 lines.\")\n",
        "  positive: str = Field(description=\"A list showing the positives mentioned by the customer in the review if any - max 3 points\")\n",
        "  negative: str = Field(description=\"A list showing the negative mentioned by the customer in the review if any - max 3 points\")\n",
        "  sentiment: str = Field(description=\"One word showing the sentiment of the review - Positive, Negative or Neutral\")\n",
        "  emotion: str=Field(description=\"A list of 3-5 emotions expressed by the customer in the review\")\n",
        "  email: str=Field(description=\"Detailed email to the customer based on the sentiment\")\n",
        "parser = PydanticOutputParser(pydantic_object=ReviewAnalysisResponse)\n",
        "parser\n"
      ],
      "metadata": {
        "colab": {
          "base_uri": "https://localhost:8080/"
        },
        "id": "6_qM0mqwRrec",
        "outputId": "780ed0e6-1dfc-4bd9-df2b-2eaf10687f43"
      },
      "execution_count": 39,
      "outputs": [
        {
          "output_type": "execute_result",
          "data": {
            "text/plain": [
              "PydanticOutputParser(pydantic_object=<class '__main__.ReviewAnalysisResponse'>)"
            ]
          },
          "metadata": {},
          "execution_count": 39
        }
      ]
    },
    {
      "cell_type": "code",
      "source": [
        "prompt_txt = \"\"\"\n",
        "Analyse the given customer review below and generate the response based on the instructions\n",
        "mentioned below in the format instructions.\n",
        "Also remember to write a detailed email response for the email field based on these conditions:\n",
        "- email should be addressed to Dear Customer and signed with Server Agent\n",
        "- thank them if the review is positive or neutral\n",
        "- apologize if the review is negative\n",
        "\n",
        "Format Instructions:\n",
        "{format_instructions}\n",
        "\n",
        "Review:\n",
        "{review}\n",
        "\"\"\"\n",
        "\n",
        "prompt = PromptTemplate(\n",
        "    template=prompt_txt,\n",
        "    input_variables=[\"review\"],\n",
        "    partial_variables={\"format_instructions\": parser.get_format_instructions()}\n",
        ")\n",
        "prompt"
      ],
      "metadata": {
        "colab": {
          "base_uri": "https://localhost:8080/"
        },
        "id": "YsKtLrMsPb1T",
        "outputId": "5c677a9c-1240-4b3e-caed-793e1a8c5c1b"
      },
      "execution_count": 40,
      "outputs": [
        {
          "output_type": "execute_result",
          "data": {
            "text/plain": [
              "PromptTemplate(input_variables=['review'], input_types={}, partial_variables={'format_instructions': 'The output should be formatted as a JSON instance that conforms to the JSON schema below.\\n\\nAs an example, for the schema {\"properties\": {\"foo\": {\"title\": \"Foo\", \"description\": \"a list of strings\", \"type\": \"array\", \"items\": {\"type\": \"string\"}}}, \"required\": [\"foo\"]}\\nthe object {\"foo\": [\"bar\", \"baz\"]} is a well-formatted instance of the schema. The object {\"properties\": {\"foo\": [\"bar\", \"baz\"]}} is not well-formatted.\\n\\nHere is the output schema:\\n```\\n{\"properties\": {\"summary\": {\"description\": \"A brief summary of the customer review with maximum 3 lines.\", \"title\": \"Summary\", \"type\": \"string\"}, \"positive\": {\"description\": \"A list showing the positives mentioned by the customer in the review if any - max 3 points\", \"title\": \"Positive\", \"type\": \"string\"}, \"negative\": {\"description\": \"A list showing the negative mentioned by the customer in the review if any - max 3 points\", \"title\": \"Negative\", \"type\": \"string\"}, \"sentiment\": {\"description\": \"One word showing the sentiment of the review - Positive, Negative or Neutral\", \"title\": \"Sentiment\", \"type\": \"string\"}, \"emotion\": {\"description\": \"A list of 3-5 emotions expressed by the customer in the review\", \"title\": \"Emotion\", \"type\": \"string\"}, \"email\": {\"description\": \"Detailed email to the customer based on the sentiment\", \"title\": \"Email\", \"type\": \"string\"}}, \"required\": [\"summary\", \"positive\", \"negative\", \"sentiment\", \"emotion\", \"email\"]}\\n```'}, template='\\nAnalyse the given customer review below and generate the response based on the instructions \\nmentioned below in the format instructions.\\nAlso remember to write a detailed email response for the email field based on these conditions:\\n- email should be addressed to Dear Customer and signed with Server Agent\\n- thank them if the review is positive or neutral\\n- apologize if the review is negative\\n\\nFormat Instructions:\\n{format_instructions}\\n\\nReview:\\n{review}\\n')"
            ]
          },
          "metadata": {},
          "execution_count": 40
        }
      ]
    },
    {
      "cell_type": "code",
      "source": [
        "# Create a LCEL LLM Chain\n",
        "chain = (prompt | chatgpt | parser)"
      ],
      "metadata": {
        "id": "86jM-M-PPb4D"
      },
      "execution_count": 41,
      "outputs": []
    },
    {
      "cell_type": "code",
      "source": [
        "# Format the input review\n",
        "reviews_formatted = [{'review': review} for review in reviews]\n",
        "reviews_formatted"
      ],
      "metadata": {
        "colab": {
          "base_uri": "https://localhost:8080/"
        },
        "id": "H2jQ4LZUPb68",
        "outputId": "9d159611-f7e1-4f51-95df-f1b26d9b81dd"
      },
      "execution_count": 42,
      "outputs": [
        {
          "output_type": "execute_result",
          "data": {
            "text/plain": [
              "[{'review': \"\\n    Just received the Bluetooth speaker I ordered for beach outings, and it's fantastic.\\n    The sound quality is impressively clear with just the right amount of bass.\\n    It's also waterproof, which tested true during a recent splashing incident.\\n    Though it's compact, the volume can really fill the space.\\n    The price was a bargain for such high-quality sound.\\n    Shipping was also on point, arriving two days early in secure packaging.\\n    \"},\n",
              " {'review': \"\\n    Purchased a new gaming keyboard because of its rave reviews about responsiveness and backlighting.\\n    It hasn't disappointed. The keys have a satisfying click and the LED colors are vibrant,\\n    enhancing my gaming experience significantly. Price-wise, it's quite competitive,\\n    and I feel like I got a good deal. The delivery was swift, and it came well-protected,\\n    ensuring no damage during transport.\\n    \"},\n",
              " {'review': \"\\n    Ordered a set of wireless earbuds for running, and they've been a letdown.\\n    The sound constantly cuts out, and the fit is uncomfortable after only a few minutes of use.\\n    They advertised a 12-hour battery life, but I'm barely getting four hours.\\n    Considering the cost, I expected better quality and performance.\\n    They did arrive on time, but the positives end there. I'm already looking into a return.\\n    \"},\n",
              " {'review': \"\\n    The tablet stand I bought was touted as being sturdy and adjustable,\\n    but it's anything but. It wobbles with the slightest touch,\\n    and the angles are not holding up as promised. It feels like a breeze could knock it over.\\n    It was also pricier than others I've seen, which adds to the disappointment.\\n    It did arrive promptly, but what's the use if the product doesn't meet basic expectations?\\n    \"},\n",
              " {'review': \"\\n    Needed a new kitchen blender, but this model has been a nightmare.\\n    It's supposed to handle various foods, but it struggles with anything tougher than cooked vegetables.\\n    It's also incredibly noisy, and the 'easy-clean' feature is a joke; food gets stuck under the blades constantly.\\n    I thought the brand meant quality, but this product has proven me wrong.\\n    Plus, it arrived three days late. Definitely not worth the expense.\\n    \"}]"
            ]
          },
          "metadata": {},
          "execution_count": 42
        }
      ]
    },
    {
      "cell_type": "code",
      "source": [
        "# Get response from the LLM\n",
        "response = chain.map().invoke(reviews_formatted)\n",
        "for response in response:\n",
        "  for k, v in response.dict().items():\n",
        "    print(f\"{k}:\\n{v}\\n\")\n",
        "    print(\"***************************\")\n",
        "    print('\\n')"
      ],
      "metadata": {
        "colab": {
          "base_uri": "https://localhost:8080/"
        },
        "id": "edVJ3v6DPb9k",
        "outputId": "e8634f53-2c63-4b65-fe10-71c3f0958daf"
      },
      "execution_count": 43,
      "outputs": [
        {
          "output_type": "stream",
          "name": "stdout",
          "text": [
            "summary:\n",
            "The customer is highly satisfied with the Bluetooth speaker, praising its sound quality, waterproof feature, and compact design. They also appreciated the early shipping and secure packaging.\n",
            "\n",
            "***************************\n",
            "\n",
            "\n",
            "positive:\n",
            "Sound quality is clear with good bass; Waterproof feature works well; Compact design with high volume.\n",
            "\n",
            "***************************\n",
            "\n",
            "\n",
            "negative:\n",
            "\n",
            "\n",
            "***************************\n",
            "\n",
            "\n",
            "sentiment:\n",
            "Positive\n",
            "\n",
            "***************************\n",
            "\n",
            "\n",
            "emotion:\n",
            "Happy, Satisfied, Impressed\n",
            "\n",
            "***************************\n",
            "\n",
            "\n",
            "email:\n",
            "Dear Customer,\n",
            "\n",
            "Thank you for your wonderful review! We're thrilled to hear that you are enjoying your new Bluetooth speaker and that it met your expectations in terms of sound quality, waterproof features, and compact design. It's great to know that the early shipping and secure packaging added to your positive experience.\n",
            "\n",
            "If you have any further questions or need assistance, feel free to reach out. We appreciate your support and hope you have many fantastic beach outings with your speaker!\n",
            "\n",
            "Best regards,\n",
            "Server Agent\n",
            "\n",
            "***************************\n",
            "\n",
            "\n",
            "summary:\n",
            "The customer is highly satisfied with their new gaming keyboard, praising its responsiveness, backlighting, and competitive pricing. They also appreciated the swift delivery and protective packaging.\n",
            "\n",
            "***************************\n",
            "\n",
            "\n",
            "positive:\n",
            "Responsive keys, vibrant LED colors, competitive price\n",
            "\n",
            "***************************\n",
            "\n",
            "\n",
            "negative:\n",
            "\n",
            "\n",
            "***************************\n",
            "\n",
            "\n",
            "sentiment:\n",
            "Positive\n",
            "\n",
            "***************************\n",
            "\n",
            "\n",
            "emotion:\n",
            "Satisfaction, Excitement, Contentment\n",
            "\n",
            "***************************\n",
            "\n",
            "\n",
            "email:\n",
            "Dear Customer,\n",
            "\n",
            "Thank you for your wonderful review! We are thrilled to hear that you are enjoying your new gaming keyboard and that it has met your expectations in terms of responsiveness and backlighting. It's great to know that you found the price competitive and that the delivery was swift and secure.\n",
            "\n",
            "Your satisfaction is our top priority, and we appreciate your feedback. If you have any further questions or need assistance, please don't hesitate to reach out.\n",
            "\n",
            "Best regards,\n",
            "Server Agent\n",
            "\n",
            "***************************\n",
            "\n",
            "\n",
            "summary:\n",
            "The customer is disappointed with the wireless earbuds due to sound issues, uncomfortable fit, and poor battery life. They are considering a return.\n",
            "\n",
            "***************************\n",
            "\n",
            "\n",
            "positive:\n",
            "They arrived on time.\n",
            "\n",
            "***************************\n",
            "\n",
            "\n",
            "negative:\n",
            "Sound cuts out, uncomfortable fit, poor battery life.\n",
            "\n",
            "***************************\n",
            "\n",
            "\n",
            "sentiment:\n",
            "Negative\n",
            "\n",
            "***************************\n",
            "\n",
            "\n",
            "emotion:\n",
            "Disappointment, Frustration, Dissatisfaction\n",
            "\n",
            "***************************\n",
            "\n",
            "\n",
            "email:\n",
            "Dear Customer,\n",
            "\n",
            "Thank you for your feedback regarding the wireless earbuds. We sincerely apologize for the issues you have experienced with the sound quality, fit, and battery life. Your satisfaction is important to us, and we understand how disappointing it can be when a product does not meet your expectations. \n",
            "\n",
            "Please know that we are here to assist you with the return process or to help find a suitable replacement. If you have any further questions or need assistance, feel free to reach out.\n",
            "\n",
            "Thank you for bringing this to our attention.\n",
            "\n",
            "Best regards,\n",
            "Server Agent\n",
            "\n",
            "***************************\n",
            "\n",
            "\n",
            "summary:\n",
            "The customer is disappointed with the tablet stand's stability and adjustability, stating it wobbles easily and does not hold angles well. They also mention it was overpriced despite prompt delivery.\n",
            "\n",
            "***************************\n",
            "\n",
            "\n",
            "positive:\n",
            "The product arrived promptly.\n",
            "\n",
            "***************************\n",
            "\n",
            "\n",
            "negative:\n",
            "The stand wobbles easily, angles do not hold as promised, and it is overpriced.\n",
            "\n",
            "***************************\n",
            "\n",
            "\n",
            "sentiment:\n",
            "Negative\n",
            "\n",
            "***************************\n",
            "\n",
            "\n",
            "emotion:\n",
            "Disappointment, Frustration, Dissatisfaction\n",
            "\n",
            "***************************\n",
            "\n",
            "\n",
            "email:\n",
            "Dear Customer,\n",
            "\n",
            "Thank you for your feedback regarding the tablet stand. We sincerely apologize for the disappointment you experienced with its stability and adjustability. We strive to provide high-quality products, and it seems we fell short in this instance. Your comments about the pricing and performance are invaluable to us, and we will take them into consideration for future improvements.\n",
            "\n",
            "If you have any further concerns or if there's anything we can do to assist you, please don't hesitate to reach out.\n",
            "\n",
            "Best regards,\n",
            "Server Agent\n",
            "\n",
            "***************************\n",
            "\n",
            "\n",
            "summary:\n",
            "The customer is dissatisfied with the kitchen blender, citing performance issues and delivery delays. They expected better quality from the brand.\n",
            "\n",
            "***************************\n",
            "\n",
            "\n",
            "positive:\n",
            "\n",
            "\n",
            "***************************\n",
            "\n",
            "\n",
            "negative:\n",
            "Struggles with tough foods, incredibly noisy, ineffective 'easy-clean' feature, arrived late.\n",
            "\n",
            "***************************\n",
            "\n",
            "\n",
            "sentiment:\n",
            "Negative\n",
            "\n",
            "***************************\n",
            "\n",
            "\n",
            "emotion:\n",
            "Frustration, disappointment, dissatisfaction, regret\n",
            "\n",
            "***************************\n",
            "\n",
            "\n",
            "email:\n",
            "Dear Customer,\n",
            "\n",
            "Thank you for taking the time to share your feedback regarding the kitchen blender. We sincerely apologize for the issues you have experienced with the product, including its performance with tougher foods, the noise level, and the ineffective cleaning feature. We also regret the delay in delivery, which is not the standard we strive for.\n",
            "\n",
            "Your experience is important to us, and we would like to make it right. Please feel free to reach out to our customer service team for assistance or to discuss possible solutions.\n",
            "\n",
            "Thank you for your understanding.\n",
            "\n",
            "Best regards,\n",
            "Server Agent\n",
            "\n",
            "***************************\n",
            "\n",
            "\n"
          ]
        },
        {
          "output_type": "stream",
          "name": "stderr",
          "text": [
            "<ipython-input-43-2f15849e8922>:4: PydanticDeprecatedSince20: The `dict` method is deprecated; use `model_dump` instead. Deprecated in Pydantic V2.0 to be removed in V3.0. See Pydantic V2 Migration Guide at https://errors.pydantic.dev/2.10/migration/\n",
            "  for k, v in response.dict().items():\n"
          ]
        }
      ]
    },
    {
      "cell_type": "code",
      "source": [
        "responses = chain.map().invoke(reviews_formatted)\n",
        "responses"
      ],
      "metadata": {
        "colab": {
          "base_uri": "https://localhost:8080/"
        },
        "id": "vE2TYFESXm2f",
        "outputId": "ce4a1557-6741-47c5-97f2-61ba0a392ec0"
      },
      "execution_count": 50,
      "outputs": [
        {
          "output_type": "execute_result",
          "data": {
            "text/plain": [
              "[ReviewAnalysisResponse(summary='The customer is highly satisfied with the Bluetooth speaker, praising its sound quality, waterproof feature, and compact design. They also appreciated the early shipping and secure packaging.', positive='Sound quality is clear with good bass; Waterproof feature works well; Compact design with high volume.', negative='', sentiment='Positive', emotion='Happy, Satisfied, Impressed', email=\"Dear Customer,\\n\\nThank you for your wonderful review! We're thrilled to hear that you are enjoying your new Bluetooth speaker and that it met your expectations in sound quality, waterproof capability, and design. It's great to know that the early shipping and secure packaging added to your positive experience.\\n\\nIf you have any further questions or need assistance, feel free to reach out. We appreciate your support and hope you have many great beach outings with your speaker!\\n\\nBest regards,\\nServer Agent\"),\n",
              " ReviewAnalysisResponse(summary='The customer is highly satisfied with their new gaming keyboard, praising its responsiveness, backlighting, and competitive pricing. They also appreciated the swift delivery and protective packaging.', positive='Responsive keys, vibrant LED colors, competitive pricing', negative='', sentiment='Positive', emotion='Satisfaction, Excitement, Contentment', email=\"Dear Customer,\\n\\nThank you for your wonderful review! We are thrilled to hear that you are enjoying your new gaming keyboard and that it has met your expectations in terms of responsiveness and backlighting. It's great to know that you found the pricing competitive and that the delivery was swift and secure.\\n\\nYour satisfaction is our priority, and we appreciate your feedback. If you have any further questions or need assistance, please don't hesitate to reach out.\\n\\nBest regards,\\nServer Agent\"),\n",
              " ReviewAnalysisResponse(summary='The customer is disappointed with the wireless earbuds due to sound issues, uncomfortable fit, and poor battery life. They are considering a return.', positive='They arrived on time.', negative='Sound cuts out, uncomfortable fit, poor battery life.', sentiment='Negative', emotion='Disappointment, Frustration, Dissatisfaction', email='Dear Customer,\\n\\nThank you for taking the time to share your feedback regarding the wireless earbuds. We sincerely apologize for the issues you have experienced with the sound quality, fit, and battery life. Your satisfaction is important to us, and we understand how disappointing it can be when a product does not meet your expectations.\\n\\nWe would like to assist you further with this matter. Please let us know if you would like to initiate a return or if there is anything else we can do to help resolve your concerns.\\n\\nThank you for your understanding.\\n\\nBest regards,\\nServer Agent'),\n",
              " ReviewAnalysisResponse(summary=\"The customer is disappointed with the tablet stand's stability and adjustability, stating it wobbles easily and does not hold angles well. They also mention it was overpriced compared to other options.\", positive='The product arrived promptly.', negative='The stand wobbles easily, angles do not hold as promised, and it is overpriced.', sentiment='Negative', emotion='Disappointment, Frustration, Dissatisfaction', email=\"Dear Customer,\\n\\nThank you for your feedback regarding the tablet stand. We sincerely apologize for the disappointment you experienced with its stability and adjustability. We strive to provide high-quality products, and it seems we fell short in this instance. Your comments about the pricing and performance are invaluable to us, and we will take them into consideration for future improvements.\\n\\nIf you have any further concerns or if there's anything we can do to assist you, please don't hesitate to reach out.\\n\\nBest regards,\\nServer Agent\"),\n",
              " ReviewAnalysisResponse(summary='The customer is dissatisfied with the kitchen blender, citing performance issues and delivery delays. They expected better quality from the brand.', positive='', negative=\"Struggles with tough foods, incredibly noisy, ineffective 'easy-clean' feature, arrived late.\", sentiment='Negative', emotion='Frustration, disappointment, dissatisfaction, regret', email='Dear Customer,\\n\\nThank you for taking the time to share your feedback regarding the kitchen blender. We sincerely apologize for the issues you have experienced with the product, including its performance with tougher foods, the noise level, and the ineffective cleaning feature. We also regret the delay in delivery, which is not the standard we strive for.\\n\\nYour experience is important to us, and we would like to make it right. Please feel free to reach out to our customer service team for assistance or to discuss possible solutions.\\n\\nThank you for your understanding.\\n\\nBest regards,\\nServer Agent')]"
            ]
          },
          "metadata": {},
          "execution_count": 50
        }
      ]
    },
    {
      "cell_type": "code",
      "source": [
        "import pandas as pd\n",
        "\n",
        "df = pd.DataFrame(response.dict() for response in responses)\n",
        "df.to_csv(\"df1.csv\")\n"
      ],
      "metadata": {
        "colab": {
          "base_uri": "https://localhost:8080/"
        },
        "id": "Kbk85qOaPcAh",
        "outputId": "0279d476-c3ec-4ec6-8180-1e09383a8286"
      },
      "execution_count": 53,
      "outputs": [
        {
          "output_type": "stream",
          "name": "stderr",
          "text": [
            "<ipython-input-53-57c7db628e1a>:3: PydanticDeprecatedSince20: The `dict` method is deprecated; use `model_dump` instead. Deprecated in Pydantic V2.0 to be removed in V3.0. See Pydantic V2 Migration Guide at https://errors.pydantic.dev/2.10/migration/\n",
            "  df = pd.DataFrame(response.dict() for response in responses)\n"
          ]
        }
      ]
    },
    {
      "cell_type": "code",
      "source": [
        "response.dict()"
      ],
      "metadata": {
        "colab": {
          "base_uri": "https://localhost:8080/"
        },
        "id": "-zpNtFVGPcDI",
        "outputId": "a2735010-241d-4362-df8b-be8f2d340445"
      },
      "execution_count": 46,
      "outputs": [
        {
          "output_type": "stream",
          "name": "stderr",
          "text": [
            "<ipython-input-46-83cee9ab0c35>:1: PydanticDeprecatedSince20: The `dict` method is deprecated; use `model_dump` instead. Deprecated in Pydantic V2.0 to be removed in V3.0. See Pydantic V2 Migration Guide at https://errors.pydantic.dev/2.10/migration/\n",
            "  response.dict()\n"
          ]
        },
        {
          "output_type": "execute_result",
          "data": {
            "text/plain": [
              "{'summary': 'The customer is dissatisfied with the kitchen blender, citing performance issues and delivery delays. They expected better quality from the brand.',\n",
              " 'positive': '',\n",
              " 'negative': \"Struggles with tough foods, incredibly noisy, ineffective 'easy-clean' feature, arrived late.\",\n",
              " 'sentiment': 'Negative',\n",
              " 'emotion': 'Frustration, disappointment, dissatisfaction, regret',\n",
              " 'email': 'Dear Customer,\\n\\nThank you for taking the time to share your feedback regarding the kitchen blender. We sincerely apologize for the issues you have experienced with the product, including its performance with tougher foods, the noise level, and the ineffective cleaning feature. We also regret the delay in delivery, which is not the standard we strive for.\\n\\nYour experience is important to us, and we would like to make it right. Please feel free to reach out to our customer service team for assistance or to discuss possible solutions.\\n\\nThank you for your understanding.\\n\\nBest regards,\\nServer Agent'}"
            ]
          },
          "metadata": {},
          "execution_count": 46
        }
      ]
    },
    {
      "cell_type": "code",
      "source": [
        "df"
      ],
      "metadata": {
        "colab": {
          "base_uri": "https://localhost:8080/",
          "height": 380
        },
        "id": "sjdGt7quYRvG",
        "outputId": "8431ea4b-dd05-472f-c23f-cc275031e225"
      },
      "execution_count": 54,
      "outputs": [
        {
          "output_type": "execute_result",
          "data": {
            "text/plain": [
              "                                             summary  \\\n",
              "0  The customer is highly satisfied with the Blue...   \n",
              "1  The customer is highly satisfied with their ne...   \n",
              "2  The customer is disappointed with the wireless...   \n",
              "3  The customer is disappointed with the tablet s...   \n",
              "4  The customer is dissatisfied with the kitchen ...   \n",
              "\n",
              "                                            positive  \\\n",
              "0  Sound quality is clear with good bass; Waterpr...   \n",
              "1  Responsive keys, vibrant LED colors, competiti...   \n",
              "2                              They arrived on time.   \n",
              "3                      The product arrived promptly.   \n",
              "4                                                      \n",
              "\n",
              "                                            negative sentiment  \\\n",
              "0                                                     Positive   \n",
              "1                                                     Positive   \n",
              "2  Sound cuts out, uncomfortable fit, poor batter...  Negative   \n",
              "3  The stand wobbles easily, angles do not hold a...  Negative   \n",
              "4  Struggles with tough foods, incredibly noisy, ...  Negative   \n",
              "\n",
              "                                             emotion  \\\n",
              "0                        Happy, Satisfied, Impressed   \n",
              "1              Satisfaction, Excitement, Contentment   \n",
              "2       Disappointment, Frustration, Dissatisfaction   \n",
              "3       Disappointment, Frustration, Dissatisfaction   \n",
              "4  Frustration, disappointment, dissatisfaction, ...   \n",
              "\n",
              "                                               email  \n",
              "0  Dear Customer,\\n\\nThank you for your wonderful...  \n",
              "1  Dear Customer,\\n\\nThank you for your wonderful...  \n",
              "2  Dear Customer,\\n\\nThank you for taking the tim...  \n",
              "3  Dear Customer,\\n\\nThank you for your feedback ...  \n",
              "4  Dear Customer,\\n\\nThank you for taking the tim...  "
            ],
            "text/html": [
              "\n",
              "  <div id=\"df-68853e4c-9b22-46a2-b93f-f7d8d5398cb0\" class=\"colab-df-container\">\n",
              "    <div>\n",
              "<style scoped>\n",
              "    .dataframe tbody tr th:only-of-type {\n",
              "        vertical-align: middle;\n",
              "    }\n",
              "\n",
              "    .dataframe tbody tr th {\n",
              "        vertical-align: top;\n",
              "    }\n",
              "\n",
              "    .dataframe thead th {\n",
              "        text-align: right;\n",
              "    }\n",
              "</style>\n",
              "<table border=\"1\" class=\"dataframe\">\n",
              "  <thead>\n",
              "    <tr style=\"text-align: right;\">\n",
              "      <th></th>\n",
              "      <th>summary</th>\n",
              "      <th>positive</th>\n",
              "      <th>negative</th>\n",
              "      <th>sentiment</th>\n",
              "      <th>emotion</th>\n",
              "      <th>email</th>\n",
              "    </tr>\n",
              "  </thead>\n",
              "  <tbody>\n",
              "    <tr>\n",
              "      <th>0</th>\n",
              "      <td>The customer is highly satisfied with the Blue...</td>\n",
              "      <td>Sound quality is clear with good bass; Waterpr...</td>\n",
              "      <td></td>\n",
              "      <td>Positive</td>\n",
              "      <td>Happy, Satisfied, Impressed</td>\n",
              "      <td>Dear Customer,\\n\\nThank you for your wonderful...</td>\n",
              "    </tr>\n",
              "    <tr>\n",
              "      <th>1</th>\n",
              "      <td>The customer is highly satisfied with their ne...</td>\n",
              "      <td>Responsive keys, vibrant LED colors, competiti...</td>\n",
              "      <td></td>\n",
              "      <td>Positive</td>\n",
              "      <td>Satisfaction, Excitement, Contentment</td>\n",
              "      <td>Dear Customer,\\n\\nThank you for your wonderful...</td>\n",
              "    </tr>\n",
              "    <tr>\n",
              "      <th>2</th>\n",
              "      <td>The customer is disappointed with the wireless...</td>\n",
              "      <td>They arrived on time.</td>\n",
              "      <td>Sound cuts out, uncomfortable fit, poor batter...</td>\n",
              "      <td>Negative</td>\n",
              "      <td>Disappointment, Frustration, Dissatisfaction</td>\n",
              "      <td>Dear Customer,\\n\\nThank you for taking the tim...</td>\n",
              "    </tr>\n",
              "    <tr>\n",
              "      <th>3</th>\n",
              "      <td>The customer is disappointed with the tablet s...</td>\n",
              "      <td>The product arrived promptly.</td>\n",
              "      <td>The stand wobbles easily, angles do not hold a...</td>\n",
              "      <td>Negative</td>\n",
              "      <td>Disappointment, Frustration, Dissatisfaction</td>\n",
              "      <td>Dear Customer,\\n\\nThank you for your feedback ...</td>\n",
              "    </tr>\n",
              "    <tr>\n",
              "      <th>4</th>\n",
              "      <td>The customer is dissatisfied with the kitchen ...</td>\n",
              "      <td></td>\n",
              "      <td>Struggles with tough foods, incredibly noisy, ...</td>\n",
              "      <td>Negative</td>\n",
              "      <td>Frustration, disappointment, dissatisfaction, ...</td>\n",
              "      <td>Dear Customer,\\n\\nThank you for taking the tim...</td>\n",
              "    </tr>\n",
              "  </tbody>\n",
              "</table>\n",
              "</div>\n",
              "    <div class=\"colab-df-buttons\">\n",
              "\n",
              "  <div class=\"colab-df-container\">\n",
              "    <button class=\"colab-df-convert\" onclick=\"convertToInteractive('df-68853e4c-9b22-46a2-b93f-f7d8d5398cb0')\"\n",
              "            title=\"Convert this dataframe to an interactive table.\"\n",
              "            style=\"display:none;\">\n",
              "\n",
              "  <svg xmlns=\"http://www.w3.org/2000/svg\" height=\"24px\" viewBox=\"0 -960 960 960\">\n",
              "    <path d=\"M120-120v-720h720v720H120Zm60-500h600v-160H180v160Zm220 220h160v-160H400v160Zm0 220h160v-160H400v160ZM180-400h160v-160H180v160Zm440 0h160v-160H620v160ZM180-180h160v-160H180v160Zm440 0h160v-160H620v160Z\"/>\n",
              "  </svg>\n",
              "    </button>\n",
              "\n",
              "  <style>\n",
              "    .colab-df-container {\n",
              "      display:flex;\n",
              "      gap: 12px;\n",
              "    }\n",
              "\n",
              "    .colab-df-convert {\n",
              "      background-color: #E8F0FE;\n",
              "      border: none;\n",
              "      border-radius: 50%;\n",
              "      cursor: pointer;\n",
              "      display: none;\n",
              "      fill: #1967D2;\n",
              "      height: 32px;\n",
              "      padding: 0 0 0 0;\n",
              "      width: 32px;\n",
              "    }\n",
              "\n",
              "    .colab-df-convert:hover {\n",
              "      background-color: #E2EBFA;\n",
              "      box-shadow: 0px 1px 2px rgba(60, 64, 67, 0.3), 0px 1px 3px 1px rgba(60, 64, 67, 0.15);\n",
              "      fill: #174EA6;\n",
              "    }\n",
              "\n",
              "    .colab-df-buttons div {\n",
              "      margin-bottom: 4px;\n",
              "    }\n",
              "\n",
              "    [theme=dark] .colab-df-convert {\n",
              "      background-color: #3B4455;\n",
              "      fill: #D2E3FC;\n",
              "    }\n",
              "\n",
              "    [theme=dark] .colab-df-convert:hover {\n",
              "      background-color: #434B5C;\n",
              "      box-shadow: 0px 1px 3px 1px rgba(0, 0, 0, 0.15);\n",
              "      filter: drop-shadow(0px 1px 2px rgba(0, 0, 0, 0.3));\n",
              "      fill: #FFFFFF;\n",
              "    }\n",
              "  </style>\n",
              "\n",
              "    <script>\n",
              "      const buttonEl =\n",
              "        document.querySelector('#df-68853e4c-9b22-46a2-b93f-f7d8d5398cb0 button.colab-df-convert');\n",
              "      buttonEl.style.display =\n",
              "        google.colab.kernel.accessAllowed ? 'block' : 'none';\n",
              "\n",
              "      async function convertToInteractive(key) {\n",
              "        const element = document.querySelector('#df-68853e4c-9b22-46a2-b93f-f7d8d5398cb0');\n",
              "        const dataTable =\n",
              "          await google.colab.kernel.invokeFunction('convertToInteractive',\n",
              "                                                    [key], {});\n",
              "        if (!dataTable) return;\n",
              "\n",
              "        const docLinkHtml = 'Like what you see? Visit the ' +\n",
              "          '<a target=\"_blank\" href=https://colab.research.google.com/notebooks/data_table.ipynb>data table notebook</a>'\n",
              "          + ' to learn more about interactive tables.';\n",
              "        element.innerHTML = '';\n",
              "        dataTable['output_type'] = 'display_data';\n",
              "        await google.colab.output.renderOutput(dataTable, element);\n",
              "        const docLink = document.createElement('div');\n",
              "        docLink.innerHTML = docLinkHtml;\n",
              "        element.appendChild(docLink);\n",
              "      }\n",
              "    </script>\n",
              "  </div>\n",
              "\n",
              "\n",
              "<div id=\"df-4e8a787d-b241-4c1a-96e9-88e9b9fa02a3\">\n",
              "  <button class=\"colab-df-quickchart\" onclick=\"quickchart('df-4e8a787d-b241-4c1a-96e9-88e9b9fa02a3')\"\n",
              "            title=\"Suggest charts\"\n",
              "            style=\"display:none;\">\n",
              "\n",
              "<svg xmlns=\"http://www.w3.org/2000/svg\" height=\"24px\"viewBox=\"0 0 24 24\"\n",
              "     width=\"24px\">\n",
              "    <g>\n",
              "        <path d=\"M19 3H5c-1.1 0-2 .9-2 2v14c0 1.1.9 2 2 2h14c1.1 0 2-.9 2-2V5c0-1.1-.9-2-2-2zM9 17H7v-7h2v7zm4 0h-2V7h2v10zm4 0h-2v-4h2v4z\"/>\n",
              "    </g>\n",
              "</svg>\n",
              "  </button>\n",
              "\n",
              "<style>\n",
              "  .colab-df-quickchart {\n",
              "      --bg-color: #E8F0FE;\n",
              "      --fill-color: #1967D2;\n",
              "      --hover-bg-color: #E2EBFA;\n",
              "      --hover-fill-color: #174EA6;\n",
              "      --disabled-fill-color: #AAA;\n",
              "      --disabled-bg-color: #DDD;\n",
              "  }\n",
              "\n",
              "  [theme=dark] .colab-df-quickchart {\n",
              "      --bg-color: #3B4455;\n",
              "      --fill-color: #D2E3FC;\n",
              "      --hover-bg-color: #434B5C;\n",
              "      --hover-fill-color: #FFFFFF;\n",
              "      --disabled-bg-color: #3B4455;\n",
              "      --disabled-fill-color: #666;\n",
              "  }\n",
              "\n",
              "  .colab-df-quickchart {\n",
              "    background-color: var(--bg-color);\n",
              "    border: none;\n",
              "    border-radius: 50%;\n",
              "    cursor: pointer;\n",
              "    display: none;\n",
              "    fill: var(--fill-color);\n",
              "    height: 32px;\n",
              "    padding: 0;\n",
              "    width: 32px;\n",
              "  }\n",
              "\n",
              "  .colab-df-quickchart:hover {\n",
              "    background-color: var(--hover-bg-color);\n",
              "    box-shadow: 0 1px 2px rgba(60, 64, 67, 0.3), 0 1px 3px 1px rgba(60, 64, 67, 0.15);\n",
              "    fill: var(--button-hover-fill-color);\n",
              "  }\n",
              "\n",
              "  .colab-df-quickchart-complete:disabled,\n",
              "  .colab-df-quickchart-complete:disabled:hover {\n",
              "    background-color: var(--disabled-bg-color);\n",
              "    fill: var(--disabled-fill-color);\n",
              "    box-shadow: none;\n",
              "  }\n",
              "\n",
              "  .colab-df-spinner {\n",
              "    border: 2px solid var(--fill-color);\n",
              "    border-color: transparent;\n",
              "    border-bottom-color: var(--fill-color);\n",
              "    animation:\n",
              "      spin 1s steps(1) infinite;\n",
              "  }\n",
              "\n",
              "  @keyframes spin {\n",
              "    0% {\n",
              "      border-color: transparent;\n",
              "      border-bottom-color: var(--fill-color);\n",
              "      border-left-color: var(--fill-color);\n",
              "    }\n",
              "    20% {\n",
              "      border-color: transparent;\n",
              "      border-left-color: var(--fill-color);\n",
              "      border-top-color: var(--fill-color);\n",
              "    }\n",
              "    30% {\n",
              "      border-color: transparent;\n",
              "      border-left-color: var(--fill-color);\n",
              "      border-top-color: var(--fill-color);\n",
              "      border-right-color: var(--fill-color);\n",
              "    }\n",
              "    40% {\n",
              "      border-color: transparent;\n",
              "      border-right-color: var(--fill-color);\n",
              "      border-top-color: var(--fill-color);\n",
              "    }\n",
              "    60% {\n",
              "      border-color: transparent;\n",
              "      border-right-color: var(--fill-color);\n",
              "    }\n",
              "    80% {\n",
              "      border-color: transparent;\n",
              "      border-right-color: var(--fill-color);\n",
              "      border-bottom-color: var(--fill-color);\n",
              "    }\n",
              "    90% {\n",
              "      border-color: transparent;\n",
              "      border-bottom-color: var(--fill-color);\n",
              "    }\n",
              "  }\n",
              "</style>\n",
              "\n",
              "  <script>\n",
              "    async function quickchart(key) {\n",
              "      const quickchartButtonEl =\n",
              "        document.querySelector('#' + key + ' button');\n",
              "      quickchartButtonEl.disabled = true;  // To prevent multiple clicks.\n",
              "      quickchartButtonEl.classList.add('colab-df-spinner');\n",
              "      try {\n",
              "        const charts = await google.colab.kernel.invokeFunction(\n",
              "            'suggestCharts', [key], {});\n",
              "      } catch (error) {\n",
              "        console.error('Error during call to suggestCharts:', error);\n",
              "      }\n",
              "      quickchartButtonEl.classList.remove('colab-df-spinner');\n",
              "      quickchartButtonEl.classList.add('colab-df-quickchart-complete');\n",
              "    }\n",
              "    (() => {\n",
              "      let quickchartButtonEl =\n",
              "        document.querySelector('#df-4e8a787d-b241-4c1a-96e9-88e9b9fa02a3 button');\n",
              "      quickchartButtonEl.style.display =\n",
              "        google.colab.kernel.accessAllowed ? 'block' : 'none';\n",
              "    })();\n",
              "  </script>\n",
              "</div>\n",
              "\n",
              "  <div id=\"id_2ca95e85-1b26-416f-b3db-796590352e54\">\n",
              "    <style>\n",
              "      .colab-df-generate {\n",
              "        background-color: #E8F0FE;\n",
              "        border: none;\n",
              "        border-radius: 50%;\n",
              "        cursor: pointer;\n",
              "        display: none;\n",
              "        fill: #1967D2;\n",
              "        height: 32px;\n",
              "        padding: 0 0 0 0;\n",
              "        width: 32px;\n",
              "      }\n",
              "\n",
              "      .colab-df-generate:hover {\n",
              "        background-color: #E2EBFA;\n",
              "        box-shadow: 0px 1px 2px rgba(60, 64, 67, 0.3), 0px 1px 3px 1px rgba(60, 64, 67, 0.15);\n",
              "        fill: #174EA6;\n",
              "      }\n",
              "\n",
              "      [theme=dark] .colab-df-generate {\n",
              "        background-color: #3B4455;\n",
              "        fill: #D2E3FC;\n",
              "      }\n",
              "\n",
              "      [theme=dark] .colab-df-generate:hover {\n",
              "        background-color: #434B5C;\n",
              "        box-shadow: 0px 1px 3px 1px rgba(0, 0, 0, 0.15);\n",
              "        filter: drop-shadow(0px 1px 2px rgba(0, 0, 0, 0.3));\n",
              "        fill: #FFFFFF;\n",
              "      }\n",
              "    </style>\n",
              "    <button class=\"colab-df-generate\" onclick=\"generateWithVariable('df')\"\n",
              "            title=\"Generate code using this dataframe.\"\n",
              "            style=\"display:none;\">\n",
              "\n",
              "  <svg xmlns=\"http://www.w3.org/2000/svg\" height=\"24px\"viewBox=\"0 0 24 24\"\n",
              "       width=\"24px\">\n",
              "    <path d=\"M7,19H8.4L18.45,9,17,7.55,7,17.6ZM5,21V16.75L18.45,3.32a2,2,0,0,1,2.83,0l1.4,1.43a1.91,1.91,0,0,1,.58,1.4,1.91,1.91,0,0,1-.58,1.4L9.25,21ZM18.45,9,17,7.55Zm-12,3A5.31,5.31,0,0,0,4.9,8.1,5.31,5.31,0,0,0,1,6.5,5.31,5.31,0,0,0,4.9,4.9,5.31,5.31,0,0,0,6.5,1,5.31,5.31,0,0,0,8.1,4.9,5.31,5.31,0,0,0,12,6.5,5.46,5.46,0,0,0,6.5,12Z\"/>\n",
              "  </svg>\n",
              "    </button>\n",
              "    <script>\n",
              "      (() => {\n",
              "      const buttonEl =\n",
              "        document.querySelector('#id_2ca95e85-1b26-416f-b3db-796590352e54 button.colab-df-generate');\n",
              "      buttonEl.style.display =\n",
              "        google.colab.kernel.accessAllowed ? 'block' : 'none';\n",
              "\n",
              "      buttonEl.onclick = () => {\n",
              "        google.colab.notebook.generateWithVariable('df');\n",
              "      }\n",
              "      })();\n",
              "    </script>\n",
              "  </div>\n",
              "\n",
              "    </div>\n",
              "  </div>\n"
            ],
            "application/vnd.google.colaboratory.intrinsic+json": {
              "type": "dataframe",
              "variable_name": "df",
              "summary": "{\n  \"name\": \"df\",\n  \"rows\": 5,\n  \"fields\": [\n    {\n      \"column\": \"summary\",\n      \"properties\": {\n        \"dtype\": \"string\",\n        \"num_unique_values\": 5,\n        \"samples\": [\n          \"The customer is highly satisfied with their new gaming keyboard, praising its responsiveness, backlighting, and competitive pricing. They also appreciated the swift delivery and protective packaging.\",\n          \"The customer is dissatisfied with the kitchen blender, citing performance issues and delivery delays. They expected better quality from the brand.\",\n          \"The customer is disappointed with the wireless earbuds due to sound issues, uncomfortable fit, and poor battery life. They are considering a return.\"\n        ],\n        \"semantic_type\": \"\",\n        \"description\": \"\"\n      }\n    },\n    {\n      \"column\": \"positive\",\n      \"properties\": {\n        \"dtype\": \"string\",\n        \"num_unique_values\": 5,\n        \"samples\": [\n          \"Responsive keys, vibrant LED colors, competitive pricing\",\n          \"\",\n          \"They arrived on time.\"\n        ],\n        \"semantic_type\": \"\",\n        \"description\": \"\"\n      }\n    },\n    {\n      \"column\": \"negative\",\n      \"properties\": {\n        \"dtype\": \"string\",\n        \"num_unique_values\": 4,\n        \"samples\": [\n          \"Sound cuts out, uncomfortable fit, poor battery life.\",\n          \"Struggles with tough foods, incredibly noisy, ineffective 'easy-clean' feature, arrived late.\",\n          \"\"\n        ],\n        \"semantic_type\": \"\",\n        \"description\": \"\"\n      }\n    },\n    {\n      \"column\": \"sentiment\",\n      \"properties\": {\n        \"dtype\": \"category\",\n        \"num_unique_values\": 2,\n        \"samples\": [\n          \"Negative\",\n          \"Positive\"\n        ],\n        \"semantic_type\": \"\",\n        \"description\": \"\"\n      }\n    },\n    {\n      \"column\": \"emotion\",\n      \"properties\": {\n        \"dtype\": \"string\",\n        \"num_unique_values\": 4,\n        \"samples\": [\n          \"Satisfaction, Excitement, Contentment\",\n          \"Frustration, disappointment, dissatisfaction, regret\"\n        ],\n        \"semantic_type\": \"\",\n        \"description\": \"\"\n      }\n    },\n    {\n      \"column\": \"email\",\n      \"properties\": {\n        \"dtype\": \"string\",\n        \"num_unique_values\": 5,\n        \"samples\": [\n          \"Dear Customer,\\n\\nThank you for your wonderful review! We are thrilled to hear that you are enjoying your new gaming keyboard and that it has met your expectations in terms of responsiveness and backlighting. It's great to know that you found the pricing competitive and that the delivery was swift and secure.\\n\\nYour satisfaction is our priority, and we appreciate your feedback. If you have any further questions or need assistance, please don't hesitate to reach out.\\n\\nBest regards,\\nServer Agent\",\n          \"Dear Customer,\\n\\nThank you for taking the time to share your feedback regarding the kitchen blender. We sincerely apologize for the issues you have experienced with the product, including its performance with tougher foods, the noise level, and the ineffective cleaning feature. We also regret the delay in delivery, which is not the standard we strive for.\\n\\nYour experience is important to us, and we would like to make it right. Please feel free to reach out to our customer service team for assistance or to discuss possible solutions.\\n\\nThank you for your understanding.\\n\\nBest regards,\\nServer Agent\"\n        ],\n        \"semantic_type\": \"\",\n        \"description\": \"\"\n      }\n    }\n  ]\n}"
            }
          },
          "metadata": {},
          "execution_count": 54
        }
      ]
    }
  ]
}